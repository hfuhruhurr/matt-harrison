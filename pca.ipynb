{
 "cells": [
  {
   "attachments": {},
   "cell_type": "markdown",
   "metadata": {},
   "source": [
    "### Using PCA as an EDA technique\n",
    "inspiration: [this tweet](https://twitter.com/__mharrison__/status/1636366804137263105)\n",
    "\n",
    "Unfortunately, the trail has run cold...I can't figure out where he's creating the `res` dataframe. Boo.\n",
    "\n",
    "But, still learned a bunch, especially the unpacking of dictionaries with stuff like:\n",
    "```**{k: lambda df_, col=k: df_[col].fillna(0).astype(float) for k in number_cols}```\n",
    "\n",
    "Hard core pythonic!"
   ]
  },
  {
   "cell_type": "code",
   "execution_count": 2,
   "metadata": {},
   "outputs": [],
   "source": [
    "import pandas as pd"
   ]
  },
  {
   "cell_type": "code",
   "execution_count": 3,
   "metadata": {},
   "outputs": [],
   "source": [
    "ames = pd.read_csv('./AmesHousing.csv')  # dataset download from kaggle (see README.md for url)"
   ]
  },
  {
   "attachments": {},
   "cell_type": "markdown",
   "metadata": {},
   "source": [
    "### First, some package-based EDA\n",
    "I tried `dataprep` cuz it looks simpler and more visually appealing but it doesn't install under Python 3.11 and doesn't work (at least `create_report(df)` didn't) under 3.10.\n",
    "\n",
    "So, here's what used to be `pandas-profiling`...renamed to `ydata-profiling`.\n",
    "\n",
    "Nope.  `ydata-profling` doesn't work either.  It kinda does as it gives a histogram for every variable but every section subsequent isn't produced.  The HTML is jacked.  Could be a 3.11 thing as nothing looks updated from when I used to use it in prior Python versions."
   ]
  },
  {
   "cell_type": "code",
   "execution_count": 3,
   "metadata": {},
   "outputs": [],
   "source": [
    "from ydata_profiling import ProfileReport"
   ]
  },
  {
   "cell_type": "code",
   "execution_count": 4,
   "metadata": {},
   "outputs": [],
   "source": [
    "profile = ProfileReport(ames, title=\"Dude Profiling Report\")"
   ]
  },
  {
   "cell_type": "code",
   "execution_count": 5,
   "metadata": {},
   "outputs": [
    {
     "data": {
      "application/vnd.jupyter.widget-view+json": {
       "model_id": "ab832d787fe84bb6854a39abdde06d13",
       "version_major": 2,
       "version_minor": 0
      },
      "text/plain": [
       "Summarize dataset:   0%|          | 0/5 [00:00<?, ?it/s]"
      ]
     },
     "metadata": {},
     "output_type": "display_data"
    },
    {
     "data": {
      "application/vnd.jupyter.widget-view+json": {
       "model_id": "5fc5de182c84452699efb3208290de33",
       "version_major": 2,
       "version_minor": 0
      },
      "text/plain": [
       "Generate report structure:   0%|          | 0/1 [00:00<?, ?it/s]"
      ]
     },
     "metadata": {},
     "output_type": "display_data"
    },
    {
     "data": {
      "application/vnd.jupyter.widget-view+json": {
       "model_id": "a04bfeebdc7f45f1851c39cce78cd966",
       "version_major": 2,
       "version_minor": 0
      },
      "text/plain": [
       "Render HTML:   0%|          | 0/1 [00:00<?, ?it/s]"
      ]
     },
     "metadata": {},
     "output_type": "display_data"
    },
    {
     "data": {
      "application/vnd.jupyter.widget-view+json": {
       "model_id": "1d4673f0e583424caf23728d716f282e",
       "version_major": 2,
       "version_minor": 0
      },
      "text/plain": [
       "Export report to file:   0%|          | 0/1 [00:00<?, ?it/s]"
      ]
     },
     "metadata": {},
     "output_type": "display_data"
    }
   ],
   "source": [
    "profile.to_file(\"dude_profile_report.html\")"
   ]
  },
  {
   "attachments": {},
   "cell_type": "markdown",
   "metadata": {},
   "source": []
  },
  {
   "cell_type": "code",
   "execution_count": null,
   "metadata": {},
   "outputs": [],
   "source": []
  },
  {
   "attachments": {},
   "cell_type": "markdown",
   "metadata": {},
   "source": [
    "### Back to Matt's voodoo"
   ]
  },
  {
   "attachments": {},
   "cell_type": "markdown",
   "metadata": {},
   "source": [
    "Note: it's appears to be voodoo because most of the heavy lifting (ie, `tweak_ames()`) is done in [this tweet](https://twitter.com/__mharrison__/status/1582393269643665408) and replicated below."
   ]
  },
  {
   "cell_type": "code",
   "execution_count": 25,
   "metadata": {},
   "outputs": [
    {
     "data": {
      "text/html": [
       "<div>\n",
       "<style scoped>\n",
       "    .dataframe tbody tr th:only-of-type {\n",
       "        vertical-align: middle;\n",
       "    }\n",
       "\n",
       "    .dataframe tbody tr th {\n",
       "        vertical-align: top;\n",
       "    }\n",
       "\n",
       "    .dataframe thead th {\n",
       "        text-align: right;\n",
       "    }\n",
       "</style>\n",
       "<table border=\"1\" class=\"dataframe\">\n",
       "  <thead>\n",
       "    <tr style=\"text-align: right;\">\n",
       "      <th></th>\n",
       "      <th>Exter Qual</th>\n",
       "      <th>Exter Cond</th>\n",
       "      <th>Bsmt Qual</th>\n",
       "      <th>Bsmt Cond</th>\n",
       "      <th>Kitchen Qual</th>\n",
       "      <th>Garage Qual</th>\n",
       "      <th>Garage Cond</th>\n",
       "      <th>Heating QC</th>\n",
       "      <th>Fireplace Qu</th>\n",
       "      <th>Pool QC</th>\n",
       "    </tr>\n",
       "  </thead>\n",
       "  <tbody>\n",
       "    <tr>\n",
       "      <th>0</th>\n",
       "      <td>TA</td>\n",
       "      <td>TA</td>\n",
       "      <td>TA</td>\n",
       "      <td>Gd</td>\n",
       "      <td>TA</td>\n",
       "      <td>TA</td>\n",
       "      <td>TA</td>\n",
       "      <td>Fa</td>\n",
       "      <td>Gd</td>\n",
       "      <td>NaN</td>\n",
       "    </tr>\n",
       "    <tr>\n",
       "      <th>1</th>\n",
       "      <td>TA</td>\n",
       "      <td>TA</td>\n",
       "      <td>TA</td>\n",
       "      <td>TA</td>\n",
       "      <td>TA</td>\n",
       "      <td>TA</td>\n",
       "      <td>TA</td>\n",
       "      <td>TA</td>\n",
       "      <td>NaN</td>\n",
       "      <td>NaN</td>\n",
       "    </tr>\n",
       "    <tr>\n",
       "      <th>2</th>\n",
       "      <td>TA</td>\n",
       "      <td>TA</td>\n",
       "      <td>TA</td>\n",
       "      <td>TA</td>\n",
       "      <td>Gd</td>\n",
       "      <td>TA</td>\n",
       "      <td>TA</td>\n",
       "      <td>TA</td>\n",
       "      <td>NaN</td>\n",
       "      <td>NaN</td>\n",
       "    </tr>\n",
       "    <tr>\n",
       "      <th>3</th>\n",
       "      <td>Gd</td>\n",
       "      <td>TA</td>\n",
       "      <td>TA</td>\n",
       "      <td>TA</td>\n",
       "      <td>Ex</td>\n",
       "      <td>TA</td>\n",
       "      <td>TA</td>\n",
       "      <td>Ex</td>\n",
       "      <td>TA</td>\n",
       "      <td>NaN</td>\n",
       "    </tr>\n",
       "    <tr>\n",
       "      <th>4</th>\n",
       "      <td>TA</td>\n",
       "      <td>TA</td>\n",
       "      <td>Gd</td>\n",
       "      <td>TA</td>\n",
       "      <td>TA</td>\n",
       "      <td>TA</td>\n",
       "      <td>TA</td>\n",
       "      <td>Gd</td>\n",
       "      <td>TA</td>\n",
       "      <td>NaN</td>\n",
       "    </tr>\n",
       "    <tr>\n",
       "      <th>...</th>\n",
       "      <td>...</td>\n",
       "      <td>...</td>\n",
       "      <td>...</td>\n",
       "      <td>...</td>\n",
       "      <td>...</td>\n",
       "      <td>...</td>\n",
       "      <td>...</td>\n",
       "      <td>...</td>\n",
       "      <td>...</td>\n",
       "      <td>...</td>\n",
       "    </tr>\n",
       "    <tr>\n",
       "      <th>2925</th>\n",
       "      <td>TA</td>\n",
       "      <td>TA</td>\n",
       "      <td>TA</td>\n",
       "      <td>TA</td>\n",
       "      <td>TA</td>\n",
       "      <td>TA</td>\n",
       "      <td>TA</td>\n",
       "      <td>TA</td>\n",
       "      <td>NaN</td>\n",
       "      <td>NaN</td>\n",
       "    </tr>\n",
       "    <tr>\n",
       "      <th>2926</th>\n",
       "      <td>TA</td>\n",
       "      <td>TA</td>\n",
       "      <td>Gd</td>\n",
       "      <td>TA</td>\n",
       "      <td>TA</td>\n",
       "      <td>TA</td>\n",
       "      <td>TA</td>\n",
       "      <td>TA</td>\n",
       "      <td>NaN</td>\n",
       "      <td>NaN</td>\n",
       "    </tr>\n",
       "    <tr>\n",
       "      <th>2927</th>\n",
       "      <td>TA</td>\n",
       "      <td>TA</td>\n",
       "      <td>Gd</td>\n",
       "      <td>TA</td>\n",
       "      <td>TA</td>\n",
       "      <td>NaN</td>\n",
       "      <td>NaN</td>\n",
       "      <td>TA</td>\n",
       "      <td>NaN</td>\n",
       "      <td>NaN</td>\n",
       "    </tr>\n",
       "    <tr>\n",
       "      <th>2928</th>\n",
       "      <td>TA</td>\n",
       "      <td>TA</td>\n",
       "      <td>Gd</td>\n",
       "      <td>TA</td>\n",
       "      <td>TA</td>\n",
       "      <td>TA</td>\n",
       "      <td>TA</td>\n",
       "      <td>Gd</td>\n",
       "      <td>TA</td>\n",
       "      <td>NaN</td>\n",
       "    </tr>\n",
       "    <tr>\n",
       "      <th>2929</th>\n",
       "      <td>TA</td>\n",
       "      <td>TA</td>\n",
       "      <td>Gd</td>\n",
       "      <td>TA</td>\n",
       "      <td>TA</td>\n",
       "      <td>TA</td>\n",
       "      <td>TA</td>\n",
       "      <td>Ex</td>\n",
       "      <td>TA</td>\n",
       "      <td>NaN</td>\n",
       "    </tr>\n",
       "  </tbody>\n",
       "</table>\n",
       "<p>2930 rows × 10 columns</p>\n",
       "</div>"
      ],
      "text/plain": [
       "     Exter Qual Exter Cond Bsmt Qual Bsmt Cond Kitchen Qual Garage Qual  \\\n",
       "0            TA         TA        TA        Gd           TA          TA   \n",
       "1            TA         TA        TA        TA           TA          TA   \n",
       "2            TA         TA        TA        TA           Gd          TA   \n",
       "3            Gd         TA        TA        TA           Ex          TA   \n",
       "4            TA         TA        Gd        TA           TA          TA   \n",
       "...         ...        ...       ...       ...          ...         ...   \n",
       "2925         TA         TA        TA        TA           TA          TA   \n",
       "2926         TA         TA        Gd        TA           TA          TA   \n",
       "2927         TA         TA        Gd        TA           TA         NaN   \n",
       "2928         TA         TA        Gd        TA           TA          TA   \n",
       "2929         TA         TA        Gd        TA           TA          TA   \n",
       "\n",
       "     Garage Cond Heating QC Fireplace Qu Pool QC  \n",
       "0             TA         Fa           Gd     NaN  \n",
       "1             TA         TA          NaN     NaN  \n",
       "2             TA         TA          NaN     NaN  \n",
       "3             TA         Ex           TA     NaN  \n",
       "4             TA         Gd           TA     NaN  \n",
       "...          ...        ...          ...     ...  \n",
       "2925          TA         TA          NaN     NaN  \n",
       "2926          TA         TA          NaN     NaN  \n",
       "2927         NaN         TA          NaN     NaN  \n",
       "2928          TA         Gd           TA     NaN  \n",
       "2929          TA         Ex           TA     NaN  \n",
       "\n",
       "[2930 rows x 10 columns]"
      ]
     },
     "execution_count": 25,
     "metadata": {},
     "output_type": "execute_result"
    }
   ],
   "source": [
    "rating_cols = ['Exter Qual', 'Exter Cond', 'Bsmt Qual', 'Bsmt Cond', 'Kitchen Qual', \n",
    "               'Garage Qual', 'Garage Cond', 'Heating QC', 'Fireplace Qu', 'Pool QC']\n",
    "\n",
    "ames[rating_cols]"
   ]
  },
  {
   "cell_type": "code",
   "execution_count": 59,
   "metadata": {},
   "outputs": [],
   "source": [
    "def tweak_ames(ames):\n",
    "    def rating_to_num(df, col):\n",
    "        return df[col].replace({'Ex': 5, 'Gd': 4, 'TA': 3, 'Fa': 2, 'Po': 1})\n",
    "    \n",
    "    rating_cols = ['exter_qual', 'exter_cond', 'bsmt_qual', 'bsmt_cond', 'kitchen_qual', \n",
    "                   'garage_qual', 'garage_cond', 'heating_qc', 'fireplace_qc', 'pool_qc']\n",
    "\n",
    "    category_cols = ['ms_zoning', 'street', 'alley', 'lot_shape', 'land_contour', 'utilities',\n",
    "                     'lot_config', 'land_slope', 'neighborhood', 'condition_1', 'condition_2',\n",
    "                     'bldg_type', 'house_style', 'roof_style', 'roof_matl', 'exterior_1st',\n",
    "                     'exterior_2nd', 'mas_vnr_type', 'foundation', 'bsmt_exposure', 'bsmtfin_type_1',\n",
    "                     'bsmtfin_type_2', 'heating', 'electrical', 'functional', 'garage_type',\n",
    "                     'garage_finish', 'paved_drive', 'fence', 'misc_feature', 'sale_type', 'sale_condition']\n",
    "    \n",
    "    number_cols = ['lot_frontage', 'mas_vnr_area', 'bsmtfin_sf_1', 'bsmtfin_sf_2', 'bsmt_unf_sf',\n",
    "                   'total_bsmt_sf', 'bsmt_full_bath', 'bsmt_half_bath', 'garage_cars', 'garage_area']\n",
    "\n",
    "    uint8_cols = ['ms_subclass', 'overall_qual', 'overall_cond', 'full_bath', 'half_bath', 'bedroom_abvgr',\n",
    "                  'kitchen_abvgr', 'totrms_abvgrd', 'fireplaces', 'mo_sold']\n",
    "    \n",
    "    uint16_cols = ['order', 'year_built', 'year_remod/add', '1st_flr_sf', '2nd_flr_sf', 'low_qual_fin_sf',\n",
    "                   'gr_liv_area', 'wood_deck_sf', 'open_porch_sf', 'enclosed_porch', '3ssn_porch',\n",
    "                   'screen_porch', 'pool_area', 'misc_val', 'yr_sold']\n",
    "    \n",
    "    uint32_cols = ['lot_area', 'saleprice']\n",
    "\n",
    "    return (ames\n",
    "        .rename(columns=lambda c: c.lower().replace(' ', '_'))\n",
    "        .assign(\n",
    "            stories=lambda df_: df_.house_style.str.extract(r'(\\d\\.?\\d?)').astype(float).fillna(0),\n",
    "            has_bsmt=lambda df_: ~df_.bsmt_qual.isna(),\n",
    "            has_garage=lambda df_: ~df_.garage_qual.isna(),\n",
    "            **{k: lambda df_: rating_to_num(df_, k).fillna(0) for k in rating_cols},\n",
    "            garage_yr_blt=lambda df_: df_.garage_yr_blt.fillna(df_.year_built).astype('uint16'),\n",
    "            **{k: lambda df_, col=k: df_[col].fillna('Other').astype('category') for k in category_cols},\n",
    "            **{k: lambda df_, col=k: df_[col].fillna(0).astype(float) for k in number_cols},\n",
    "            total_sf = lambda df_: df_.total_bsmt_sf + df_['1st_flr_sf'] + df_['2nd_flr_sf']\n",
    "        )\n",
    "        .astype({\n",
    "            'central_air': bool,\n",
    "            **{k: 'uint8' for k in uint8_cols},\n",
    "            **{k: 'uint16' for k in uint16_cols},\n",
    "            **{k: 'uint32' for k in uint32_cols}\n",
    "        })\n",
    "        .drop(columns=['pid'])\n",
    "\t)"
   ]
  },
  {
   "cell_type": "code",
   "execution_count": 60,
   "metadata": {},
   "outputs": [],
   "source": [
    "dude = tweak_ames(ames)"
   ]
  },
  {
   "cell_type": "code",
   "execution_count": 79,
   "metadata": {},
   "outputs": [
    {
     "data": {
      "text/plain": [
       "<AxesSubplot: xlabel='year_built'>"
      ]
     },
     "execution_count": 79,
     "metadata": {},
     "output_type": "execute_result"
    },
    {
     "data": {
      "image/png": "[encoded data removed]",
      "text/plain": [
       "<Figure size 640x480 with 1 Axes>"
      ]
     },
     "metadata": {},
     "output_type": "display_data"
    }
   ],
   "source": [
    "(dude \n",
    "    .groupby('year_built')\n",
    "    [['total_sf']]\n",
    "    .agg(['min', 'mean', lambda g: g.quantile(.9)])\n",
    "    .total_sf  # this is necessary since the resulting agg will have two levels of column names:  total_sf and (min, miean, 90)\n",
    "    .rename(columns={'<lambda_0>': '90%'})\n",
    "    .rolling(5).mean()  # smooths out the jaggedness\n",
    "    .plot()\n",
    ")"
   ]
  },
  {
   "cell_type": "code",
   "execution_count": null,
   "metadata": {},
   "outputs": [],
   "source": []
  }
 ],
 "metadata": {
  "kernelspec": {
   "display_name": "venv",
   "language": "python",
   "name": "python3"
  },
  "language_info": {
   "codemirror_mode": {
    "name": "ipython",
    "version": 3
   },
   "file_extension": ".py",
   "mimetype": "text/x-python",
   "name": "python",
   "nbconvert_exporter": "python",
   "pygments_lexer": "ipython3",
   "version": "3.11.0"
  },
  "orig_nbformat": 4
 },
 "nbformat": 4,
 "nbformat_minor": 2
}
