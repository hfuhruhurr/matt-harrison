{
 "cells": [
  {
   "attachments": {},
   "cell_type": "markdown",
   "metadata": {},
   "source": [
    "# Inspired by [Matt Harrison](https://twitter.com/__mharrison__/status/1560656737379782657), from the raw source data, recreate the following plot as seen in Len Kiefer's [tweet](https://twitter.com/lenkiefer/status/1549118215795744768):\n",
    "<img src=\"hmi_chart.png\" width=\"500\"/>"
   ]
  },
  {
   "cell_type": "code",
   "execution_count": 14,
   "metadata": {},
   "outputs": [],
   "source": [
    "import pandas as pd\n",
    "import matplotlib.pyplot as plt \n",
    "import matplotlib.dates\n",
    "import matplotlib.colors as mcolors\n",
    "import altair as alt\n",
    "import numpy as np"
   ]
  },
  {
   "attachments": {},
   "cell_type": "markdown",
   "metadata": {},
   "source": [
    "### Get the source data from the NAHB [web site](https://www.nahb.org/news-and-economics/housing-economics/indices/housing-market-index)"
   ]
  },
  {
   "attachments": {},
   "cell_type": "markdown",
   "metadata": {},
   "source": [
    "All data...we'll just use Table 2.\n",
    "\n",
    "[Table 1](https://www.nahb.org/-/media/NAHB/news-and-economics/docs/housing-economics/hmi/202303/t1-nahb-wells-fargo-national-and-regional-hmi-202303.xls)\n",
    "\n",
    "[Table 2](https://www.nahb.org/-/media/NAHB/news-and-economics/docs/housing-economics/hmi/202303/t2-national-hmi-history-202303.xls)\n",
    "\n",
    "[Table 3](https://www.nahb.org/-/media/NAHB/news-and-economics/docs/housing-economics/hmi/202303/t3-national-hmi-components-history-202303.xls)\n",
    "\n",
    "[Table 4](https://www.nahb.org/-/media/NAHB/news-and-economics/docs/housing-economics/hmi/202303/t4-regional-hmi-history-202303.xls)\n",
    "\n",
    "[Table 5](https://www.nahb.org/-/media/NAHB/news-and-economics/docs/housing-economics/hmi/202303/t5-regional-hmi-history-202303.xls)\n",
    "\n",
    "[Chart](https://www.nahb.org/-/media/NAHB/news-and-economics/docs/housing-economics/hmi/202303/chart-nahb-wells-fargo-hmi-and-single-family-housing-starts-202303.xls)"
   ]
  },
  {
   "cell_type": "code",
   "execution_count": 2,
   "metadata": {},
   "outputs": [],
   "source": [
    "table_2_url = 'https://www.nahb.org/-/media/NAHB/news-and-economics/docs/housing-economics/hmi/202303/t2-national-hmi-history-202303.xls'"
   ]
  },
  {
   "cell_type": "code",
   "execution_count": 3,
   "metadata": {},
   "outputs": [],
   "source": [
    "# if the read from the website doesn't work, I copied the file locally and prefixed it w/ \"hmi_\"\n",
    "df = pd.read_excel(table_2_url, index_col=[0], skiprows=[0,1])"
   ]
  },
  {
   "cell_type": "code",
   "execution_count": 4,
   "metadata": {},
   "outputs": [
    {
     "data": {
      "text/html": [
       "<div>\n",
       "<style scoped>\n",
       "    .dataframe tbody tr th:only-of-type {\n",
       "        vertical-align: middle;\n",
       "    }\n",
       "\n",
       "    .dataframe tbody tr th {\n",
       "        vertical-align: top;\n",
       "    }\n",
       "\n",
       "    .dataframe thead th {\n",
       "        text-align: right;\n",
       "    }\n",
       "</style>\n",
       "<table border=\"1\" class=\"dataframe\">\n",
       "  <thead>\n",
       "    <tr style=\"text-align: right;\">\n",
       "      <th></th>\n",
       "      <th>Jan</th>\n",
       "      <th>Feb</th>\n",
       "      <th>Mar</th>\n",
       "      <th>Apr</th>\n",
       "      <th>May</th>\n",
       "      <th>Jun</th>\n",
       "      <th>Jul</th>\n",
       "      <th>Aug</th>\n",
       "      <th>Sep</th>\n",
       "      <th>Oct</th>\n",
       "      <th>Nov</th>\n",
       "      <th>Dec</th>\n",
       "    </tr>\n",
       "    <tr>\n",
       "      <th>(Seasonally Adjusted)</th>\n",
       "      <th></th>\n",
       "      <th></th>\n",
       "      <th></th>\n",
       "      <th></th>\n",
       "      <th></th>\n",
       "      <th></th>\n",
       "      <th></th>\n",
       "      <th></th>\n",
       "      <th></th>\n",
       "      <th></th>\n",
       "      <th></th>\n",
       "      <th></th>\n",
       "    </tr>\n",
       "  </thead>\n",
       "  <tbody>\n",
       "    <tr>\n",
       "      <th>1985</th>\n",
       "      <td>50</td>\n",
       "      <td>58</td>\n",
       "      <td>54</td>\n",
       "      <td>49.0</td>\n",
       "      <td>51.0</td>\n",
       "      <td>54.0</td>\n",
       "      <td>58.0</td>\n",
       "      <td>58.0</td>\n",
       "      <td>56.0</td>\n",
       "      <td>59.0</td>\n",
       "      <td>58.0</td>\n",
       "      <td>57.0</td>\n",
       "    </tr>\n",
       "    <tr>\n",
       "      <th>1986</th>\n",
       "      <td>57</td>\n",
       "      <td>55</td>\n",
       "      <td>57</td>\n",
       "      <td>62.0</td>\n",
       "      <td>64.0</td>\n",
       "      <td>65.0</td>\n",
       "      <td>59.0</td>\n",
       "      <td>55.0</td>\n",
       "      <td>57.0</td>\n",
       "      <td>64.0</td>\n",
       "      <td>59.0</td>\n",
       "      <td>64.0</td>\n",
       "    </tr>\n",
       "    <tr>\n",
       "      <th>1987</th>\n",
       "      <td>63</td>\n",
       "      <td>60</td>\n",
       "      <td>60</td>\n",
       "      <td>59.0</td>\n",
       "      <td>55.0</td>\n",
       "      <td>56.0</td>\n",
       "      <td>55.0</td>\n",
       "      <td>54.0</td>\n",
       "      <td>52.0</td>\n",
       "      <td>50.0</td>\n",
       "      <td>56.0</td>\n",
       "      <td>51.0</td>\n",
       "    </tr>\n",
       "    <tr>\n",
       "      <th>1988</th>\n",
       "      <td>53</td>\n",
       "      <td>51</td>\n",
       "      <td>51</td>\n",
       "      <td>52.0</td>\n",
       "      <td>54.0</td>\n",
       "      <td>49.0</td>\n",
       "      <td>54.0</td>\n",
       "      <td>56.0</td>\n",
       "      <td>53.0</td>\n",
       "      <td>49.0</td>\n",
       "      <td>58.0</td>\n",
       "      <td>60.0</td>\n",
       "    </tr>\n",
       "    <tr>\n",
       "      <th>1989</th>\n",
       "      <td>54</td>\n",
       "      <td>53</td>\n",
       "      <td>48</td>\n",
       "      <td>44.0</td>\n",
       "      <td>44.0</td>\n",
       "      <td>45.0</td>\n",
       "      <td>46.0</td>\n",
       "      <td>50.0</td>\n",
       "      <td>51.0</td>\n",
       "      <td>48.0</td>\n",
       "      <td>46.0</td>\n",
       "      <td>43.0</td>\n",
       "    </tr>\n",
       "  </tbody>\n",
       "</table>\n",
       "</div>"
      ],
      "text/plain": [
       "                          Jan  Feb  Mar   Apr   May   Jun   Jul   Aug   Sep  \\\n",
       "   (Seasonally Adjusted)                                                      \n",
       "1985                       50   58   54  49.0  51.0  54.0  58.0  58.0  56.0   \n",
       "1986                       57   55   57  62.0  64.0  65.0  59.0  55.0  57.0   \n",
       "1987                       63   60   60  59.0  55.0  56.0  55.0  54.0  52.0   \n",
       "1988                       53   51   51  52.0  54.0  49.0  54.0  56.0  53.0   \n",
       "1989                       54   53   48  44.0  44.0  45.0  46.0  50.0  51.0   \n",
       "\n",
       "                           Oct   Nov   Dec  \n",
       "   (Seasonally Adjusted)                    \n",
       "1985                      59.0  58.0  57.0  \n",
       "1986                      64.0  59.0  64.0  \n",
       "1987                      50.0  56.0  51.0  \n",
       "1988                      49.0  58.0  60.0  \n",
       "1989                      48.0  46.0  43.0  "
      ]
     },
     "execution_count": 4,
     "metadata": {},
     "output_type": "execute_result"
    }
   ],
   "source": [
    "df.head()"
   ]
  },
  {
   "attachments": {},
   "cell_type": "markdown",
   "metadata": {},
   "source": [
    "### Wrangle the data, cowboy"
   ]
  },
  {
   "cell_type": "code",
   "execution_count": 5,
   "metadata": {},
   "outputs": [],
   "source": [
    "wrangled = (df \n",
    "    .stack()        # unpivot the months from columns into rows\n",
    "    .rename('hmi')  # label the resulting series 'hmi'\n",
    "    .reset_index()  # get rid of the index columns\n",
    "    .rename(columns=dict(zip(['   (Seasonally Adjusted)', 'level_1', 'hmi'], ['Year', 'Month', 'HMI'])))  # rename the columns for humans\n",
    "    .assign(Date=lambda df_: pd.to_datetime(df_.Month + '/' + df_.Year.astype(str)))\n",
    ")"
   ]
  },
  {
   "cell_type": "code",
   "execution_count": 6,
   "metadata": {},
   "outputs": [
    {
     "data": {
      "text/html": [
       "<div>\n",
       "<style scoped>\n",
       "    .dataframe tbody tr th:only-of-type {\n",
       "        vertical-align: middle;\n",
       "    }\n",
       "\n",
       "    .dataframe tbody tr th {\n",
       "        vertical-align: top;\n",
       "    }\n",
       "\n",
       "    .dataframe thead th {\n",
       "        text-align: right;\n",
       "    }\n",
       "</style>\n",
       "<table border=\"1\" class=\"dataframe\">\n",
       "  <thead>\n",
       "    <tr style=\"text-align: right;\">\n",
       "      <th></th>\n",
       "      <th>Year</th>\n",
       "      <th>Month</th>\n",
       "      <th>HMI</th>\n",
       "      <th>Date</th>\n",
       "    </tr>\n",
       "  </thead>\n",
       "  <tbody>\n",
       "    <tr>\n",
       "      <th>450</th>\n",
       "      <td>2022</td>\n",
       "      <td>Jul</td>\n",
       "      <td>55.0</td>\n",
       "      <td>2022-07-01</td>\n",
       "    </tr>\n",
       "    <tr>\n",
       "      <th>451</th>\n",
       "      <td>2022</td>\n",
       "      <td>Aug</td>\n",
       "      <td>49.0</td>\n",
       "      <td>2022-08-01</td>\n",
       "    </tr>\n",
       "    <tr>\n",
       "      <th>452</th>\n",
       "      <td>2022</td>\n",
       "      <td>Sep</td>\n",
       "      <td>46.0</td>\n",
       "      <td>2022-09-01</td>\n",
       "    </tr>\n",
       "    <tr>\n",
       "      <th>453</th>\n",
       "      <td>2022</td>\n",
       "      <td>Oct</td>\n",
       "      <td>38.0</td>\n",
       "      <td>2022-10-01</td>\n",
       "    </tr>\n",
       "    <tr>\n",
       "      <th>454</th>\n",
       "      <td>2022</td>\n",
       "      <td>Nov</td>\n",
       "      <td>33.0</td>\n",
       "      <td>2022-11-01</td>\n",
       "    </tr>\n",
       "    <tr>\n",
       "      <th>455</th>\n",
       "      <td>2022</td>\n",
       "      <td>Dec</td>\n",
       "      <td>31.0</td>\n",
       "      <td>2022-12-01</td>\n",
       "    </tr>\n",
       "    <tr>\n",
       "      <th>456</th>\n",
       "      <td>2023</td>\n",
       "      <td>Jan</td>\n",
       "      <td>35.0</td>\n",
       "      <td>2023-01-01</td>\n",
       "    </tr>\n",
       "    <tr>\n",
       "      <th>457</th>\n",
       "      <td>2023</td>\n",
       "      <td>Feb</td>\n",
       "      <td>42.0</td>\n",
       "      <td>2023-02-01</td>\n",
       "    </tr>\n",
       "    <tr>\n",
       "      <th>458</th>\n",
       "      <td>2023</td>\n",
       "      <td>Mar</td>\n",
       "      <td>44.0</td>\n",
       "      <td>2023-03-01</td>\n",
       "    </tr>\n",
       "  </tbody>\n",
       "</table>\n",
       "</div>"
      ],
      "text/plain": [
       "     Year Month   HMI       Date\n",
       "450  2022   Jul  55.0 2022-07-01\n",
       "451  2022   Aug  49.0 2022-08-01\n",
       "452  2022   Sep  46.0 2022-09-01\n",
       "453  2022   Oct  38.0 2022-10-01\n",
       "454  2022   Nov  33.0 2022-11-01\n",
       "455  2022   Dec  31.0 2022-12-01\n",
       "456  2023   Jan  35.0 2023-01-01\n",
       "457  2023   Feb  42.0 2023-02-01\n",
       "458  2023   Mar  44.0 2023-03-01"
      ]
     },
     "execution_count": 6,
     "metadata": {},
     "output_type": "execute_result"
    }
   ],
   "source": [
    "wrangled.tail(9)"
   ]
  },
  {
   "cell_type": "code",
   "execution_count": 7,
   "metadata": {},
   "outputs": [
    {
     "data": {
      "text/plain": [
       "<Axes: xlabel='Date'>"
      ]
     },
     "execution_count": 7,
     "metadata": {},
     "output_type": "execute_result"
    },
    {
     "data": {
      "image/png": "[encoded data removed]",
      "text/plain": [
       "<Figure size 640x480 with 1 Axes>"
      ]
     },
     "metadata": {},
     "output_type": "display_data"
    }
   ],
   "source": [
    "wrangled.query(\"Year >= 2020\").plot(x='Date', y='HMI')"
   ]
  },
  {
   "attachments": {},
   "cell_type": "markdown",
   "metadata": {},
   "source": [
    "### Plot the mudafakah, bar-style"
   ]
  },
  {
   "cell_type": "code",
   "execution_count": null,
   "metadata": {},
   "outputs": [],
   "source": [
    "wrangled.plot.bar(x='Date', y='HMI')"
   ]
  },
  {
   "attachments": {},
   "cell_type": "markdown",
   "metadata": {},
   "source": [
    "### Oof...that's fugly.  Do better."
   ]
  },
  {
   "attachments": {},
   "cell_type": "markdown",
   "metadata": {},
   "source": [
    "Meh...not really in the mood to retype Matt's code for `matplotlib` stuff.  Neat exercise, but not a good use of my time right now.\n",
    "\n",
    "I wonder if Chat-GPT 4 could do the heavy lifting for me if I provide it the dataframe and the png of the desired plot???"
   ]
  },
  {
   "cell_type": "code",
   "execution_count": null,
   "metadata": {},
   "outputs": [],
   "source": [
    "def plot_hmi(df):\n",
    "    for font in ['xtick.color', 'ytick.color', 'axes.labelcolor']:\n",
    "        matplotlib.rcParams[font] = '#ffffff'\n",
    "    matplotlib.rcParams['font.family'] = 'Roboto'\n",
    "\n",
    "    fig = plt.Figure(figsize=(8, 6), dpi=200)\n",
    "    fig.patch.set_facecolor('#1a1a1a')\n",
    "    ax = fig.add_axes((.2, .4, .8, .4))\n",
    "    # cmap = Linear\n",
    "\n",
    "    return fig"
   ]
  },
  {
   "attachments": {},
   "cell_type": "markdown",
   "metadata": {},
   "source": [
    "### Recreate in `altair`"
   ]
  },
  {
   "cell_type": "code",
   "execution_count": 35,
   "metadata": {},
   "outputs": [],
   "source": [
    "# can't do custom color gradients directly in altair but...\n",
    "# ...you can sample matplotlib's custom gradient and use it in altair\n",
    "matplotlib_cmap = mcolors.LinearSegmentedColormap.from_list('dude_gradient', (\n",
    "    # Edit this gradient at https://eltos.github.io/gradient/#0:9CD2E5-14.7:07AFEB-27.2:48B175-43.4:78C032-72.7:FFc620-100:D02C30\n",
    "    (0.000, (0.612, 0.824, 0.898)),\n",
    "    (0.147, (0.027, 0.686, 0.922)),\n",
    "    (0.272, (0.282, 0.694, 0.459)),\n",
    "    (0.434, (0.471, 0.753, 0.196)),\n",
    "    (0.727, (1.000, 0.776, 0.125)),\n",
    "    (1.000, (0.816, 0.173, 0.188))))"
   ]
  },
  {
   "cell_type": "code",
   "execution_count": 36,
   "metadata": {},
   "outputs": [
    {
     "data": {
      "image/png": "[encoded data removed]",
      "text/html": [
       "<div style=\"vertical-align: middle;\"><strong>dude_gradient</strong> </div><div class=\"cmap\"><img alt=\"dude_gradient colormap\" title=\"dude_gradient\" style=\"border: 1px solid #555;\" src=\"data:image/png;base64,iVBORw0KGgoAAAANSUhEUgAAAgAAAABACAYAAABsv8+/AAAAHHRFWHRUaXRsZQBkdWRlX2dyYWRpZW50IGNvbG9ybWFw4HOQgQAAACJ0RVh0RGVzY3JpcHRpb24AZHVkZV9ncmFkaWVudCBjb2xvcm1hcH0jfsQAAAAwdEVYdEF1dGhvcgBNYXRwbG90bGliIHYzLjcuMSwgaHR0cHM6Ly9tYXRwbG90bGliLm9yZyqv+E0AAAAydEVYdFNvZnR3YXJlAE1hdHBsb3RsaWIgdjMuNy4xLCBodHRwczovL21hdHBsb3RsaWIub3JnBAlnagAAAgtJREFUeJzt1kFugzAURdFvuv8ddFVdQ5eRhA5CkIKhkJaM3jkTS9gx2Kqq2z6/vseqqsvY6j7WwfGf6+vN+++N9bf9x/FWVVVDu5/gYzrJUNdpvGyMW/OvPp/Gdu5+Hwd/19r9/K2ex6GNz8/ndcvn47TfbfX5ct9u/c66+Xs214+r5+i+f+f3Q3cP6/v2531eN1StjvN7NuaH+V5/nx9aHVvXvf/3+XldO+k7u/eun+Pl79u9x8W6trXu4Hd2+27Md+c55x7r8X/qNk1M43itxfPndfPzed3GPvN+bf352fs8ft99/3J9W7x3Y/7ofVx33vO2ez1rn717vQ+Pvx8AIIgAAIBAAgAAAgkAAAgkAAAgkAAAgEACAAACCQAACCQAACCQAACAQAIAAAIJAAAIJAAAIJAAAIBAAgAAAgkAAAgkAAAgkAAAgEACAAACCQAACCQAACCQAACAQAIAAAIJAAAIJAAAIJAAAIBAAgAAAgkAAAgkAAAgkAAAgEACAAACCQAACCQAACCQAACAQAIAAAIJAAAIJAAAIJAAAIBAAgAAAgkAAAgkAAAgkAAAgEACAAACCQAACCQAACCQAACAQAIAAAIJAAAIJAAAIJAAAIBAAgAAAgkAAAgkAAAgkAAAgEACAAACCQAACCQAACCQAACAQAIAAAIJAAAIJAAAIJAAAIBAAgAAAv0ALGUcuWr/a30AAAAASUVORK5CYII=\"></div><div style=\"vertical-align: middle; max-width: 514px; display: flex; justify-content: space-between;\"><div style=\"float: left;\"><div title=\"#9cd2e5ff\" style=\"display: inline-block; width: 1em; height: 1em; margin: 0; vertical-align: middle; border: 1px solid #555; background-color: #9cd2e5ff;\"></div> under</div><div style=\"margin: 0 auto; display: inline-block;\">bad <div title=\"#00000000\" style=\"display: inline-block; width: 1em; height: 1em; margin: 0; vertical-align: middle; border: 1px solid #555; background-color: #00000000;\"></div></div><div style=\"float: right;\">over <div title=\"#d02c30ff\" style=\"display: inline-block; width: 1em; height: 1em; margin: 0; vertical-align: middle; border: 1px solid #555; background-color: #d02c30ff;\"></div></div>"
      ],
      "text/plain": [
       "<matplotlib.colors.LinearSegmentedColormap at 0x12fb61e10>"
      ]
     },
     "execution_count": 36,
     "metadata": {},
     "output_type": "execute_result"
    }
   ],
   "source": [
    "matplotlib_cmap"
   ]
  },
  {
   "cell_type": "code",
   "execution_count": 46,
   "metadata": {},
   "outputs": [],
   "source": [
    "# define the gradient resolution\n",
    "gradient_resolution = 1000  # ie, how many distinct colors you want to create in the gradient\n",
    "# create the sample points from 0 to 1 \n",
    "gradient_sample_points = np.linspace(0, 1, gradient_resolution)\n",
    "# sample the matplotlib gradient according to the defined resolution\n",
    "sampled_gradient = matplotlib_cmap(gradient_sample_points)\n",
    "# must convert the [R, G, B, alpha] colors to hex values to be useable in altair\n",
    "hex_colors = [mcolors.to_hex(color) for color in sampled_gradient]\n",
    "# define/determine the min and max value of the data between mapped\n",
    "min_value = 0\n",
    "max_value = 100\n",
    "# define the altair gradient\n",
    "altair_gradient = alt.Scale(domain=np.linspace(min_value, max_value + 1, len(hex_colors)), range=hex_colors)"
   ]
  },
  {
   "cell_type": "code",
   "execution_count": 70,
   "metadata": {},
   "outputs": [],
   "source": [
    "tick_values = np.linspace(-50, 50, 11)\n",
    "tick_labels = [str(int(i)) for i in np.linspace(0, 100, 11)]"
   ]
  },
  {
   "cell_type": "code",
   "execution_count": 73,
   "metadata": {},
   "outputs": [
    {
     "data": {
      "text/html": [
       "\n",
       "<div id=\"altair-viz-0f95302ffc454d749e9619938eb01311\"></div>\n",
       "<script type=\"text/javascript\">\n",
       "  var VEGA_DEBUG = (typeof VEGA_DEBUG == \"undefined\") ? {} : VEGA_DEBUG;\n",
       "  (function(spec, embedOpt){\n",
       "    let outputDiv = document.currentScript.previousElementSibling;\n",
       "    if (outputDiv.id !== \"altair-viz-0f95302ffc454d749e9619938eb01311\") {\n",
       "      outputDiv = document.getElementById(\"altair-viz-0f95302ffc454d749e9619938eb01311\");\n",
       "    }\n",
       "    const paths = {\n",
       "      \"vega\": \"https://cdn.jsdelivr.net/npm//vega@5?noext\",\n",
       "      \"vega-lib\": \"https://cdn.jsdelivr.net/npm//vega-lib?noext\",\n",
       "      \"vega-lite\": \"https://cdn.jsdelivr.net/npm//vega-lite@4.17.0?noext\",\n",
       "      \"vega-embed\": \"https://cdn.jsdelivr.net/npm//vega-embed@6?noext\",\n",
       "    };\n",
       "\n",
       "    function maybeLoadScript(lib, version) {\n",
       "      var key = `${lib.replace(\"-\", \"\")}_version`;\n",
       "      return (VEGA_DEBUG[key] == version) ?\n",
       "        Promise.resolve(paths[lib]) :\n",
       "        new Promise(function(resolve, reject) {\n",
       "          var s = document.createElement('script');\n",
       "          document.getElementsByTagName(\"head\")[0].appendChild(s);\n",
       "          s.async = true;\n",
       "          s.onload = () => {\n",
       "            VEGA_DEBUG[key] = version;\n",
       "            return resolve(paths[lib]);\n",
       "          };\n",
       "          s.onerror = () => reject(`Error loading script: ${paths[lib]}`);\n",
       "          s.src = paths[lib];\n",
       "        });\n",
       "    }\n",
       "\n",
       "    function showError(err) {\n",
       "      outputDiv.innerHTML = `<div class=\"error\" style=\"color:red;\">${err}</div>`;\n",
       "      throw err;\n",
       "    }\n",
       "\n",
       "    function displayChart(vegaEmbed) {\n",
       "      vegaEmbed(outputDiv, spec, embedOpt)\n",
       "        .catch(err => showError(`Javascript Error: ${err.message}<br>This usually means there's a typo in your chart specification. See the javascript console for the full traceback.`));\n",
       "    }\n",
       "\n",
       "    if(typeof define === \"function\" && define.amd) {\n",
       "      requirejs.config({paths});\n",
       "      require([\"vega-embed\"], displayChart, err => showError(`Error loading script: ${err.message}`));\n",
       "    } else {\n",
       "      maybeLoadScript(\"vega\", \"5\")\n",
       "        .then(() => maybeLoadScript(\"vega-lite\", \"4.17.0\"))\n",
       "        .then(() => maybeLoadScript(\"vega-embed\", \"6\"))\n",
       "        .catch(showError)\n",
       "        .then(() => displayChart(vegaEmbed));\n",
       "    }\n",
       "  })({\"config\": {\"view\": {\"continuousWidth\": 400, \"continuousHeight\": 300}}, \"data\": {\"name\": \"data-e618f3d19b9ef1843228202fe2678bb3\"}, \"mark\": \"bar\", \"encoding\": {\"color\": {\"field\": \"HMI\", \"scale\": {\"domain\": [0.0, 0.1011011011011011, 0.2022022022022022, 0.3033033033033033, 0.4044044044044044, 0.5055055055055055, 0.6066066066066066, 0.7077077077077076, 0.8088088088088088, 0.9099099099099099, 1.011011011011011, 1.112112112112112, 1.2132132132132132, 1.3143143143143143, 1.4154154154154153, 1.5165165165165164, 1.6176176176176176, 1.7187187187187187, 1.8198198198198199, 1.9209209209209208, 2.022022022022022, 2.123123123123123, 2.224224224224224, 2.325325325325325, 2.4264264264264264, 2.5275275275275275, 2.6286286286286287, 2.72972972972973, 2.8308308308308305, 2.9319319319319317, 3.033033033033033, 3.134134134134134, 3.235235235235235, 3.3363363363363363, 3.4374374374374375, 3.5385385385385386, 3.6396396396396398, 3.7407407407407405, 3.8418418418418416, 3.942942942942943, 4.044044044044044, 4.145145145145145, 4.246246246246246, 4.347347347347347, 4.448448448448448, 4.54954954954955, 4.65065065065065, 4.751751751751752, 4.852852852852853, 4.953953953953953, 5.055055055055055, 5.156156156156156, 5.257257257257257, 5.358358358358358, 5.45945945945946, 5.56056056056056, 5.661661661661661, 5.762762762762763, 5.863863863863863, 5.964964964964965, 6.066066066066066, 6.167167167167167, 6.268268268268268, 6.36936936936937, 6.47047047047047, 6.571571571571571, 6.672672672672673, 6.773773773773773, 6.874874874874875, 6.975975975975976, 7.077077077077077, 7.178178178178178, 7.2792792792792795, 7.38038038038038, 7.481481481481481, 7.5825825825825826, 7.683683683683683, 7.784784784784785, 7.885885885885886, 7.986986986986987, 8.088088088088089, 8.18918918918919, 8.29029029029029, 8.391391391391391, 8.492492492492492, 8.593593593593594, 8.694694694694695, 8.795795795795796, 8.896896896896896, 8.997997997997997, 9.0990990990991, 9.2002002002002, 9.3013013013013, 9.402402402402402, 9.503503503503504, 9.604604604604605, 9.705705705705705, 9.806806806806806, 9.907907907907907, 10.00900900900901, 10.11011011011011, 10.21121121121121, 10.312312312312311, 10.413413413413414, 10.514514514514515, 10.615615615615615, 10.716716716716716, 10.817817817817817, 10.91891891891892, 11.02002002002002, 11.12112112112112, 11.222222222222221, 11.323323323323322, 11.424424424424425, 11.525525525525525, 11.626626626626626, 11.727727727727727, 11.82882882882883, 11.92992992992993, 12.03103103103103, 12.132132132132131, 12.233233233233232, 12.334334334334335, 12.435435435435435, 12.536536536536536, 12.637637637637637, 12.73873873873874, 12.83983983983984, 12.94094094094094, 13.042042042042041, 13.143143143143142, 13.244244244244245, 13.345345345345345, 13.446446446446446, 13.547547547547547, 13.64864864864865, 13.74974974974975, 13.85085085085085, 13.951951951951951, 14.053053053053052, 14.154154154154154, 14.255255255255255, 14.356356356356356, 14.457457457457457, 14.558558558558559, 14.65965965965966, 14.76076076076076, 14.861861861861861, 14.962962962962962, 15.064064064064064, 15.165165165165165, 15.266266266266266, 15.367367367367367, 15.468468468468467, 15.56956956956957, 15.67067067067067, 15.771771771771771, 15.872872872872872, 15.973973973973974, 16.075075075075073, 16.176176176176178, 16.27727727727728, 16.37837837837838, 16.47947947947948, 16.58058058058058, 16.68168168168168, 16.782782782782782, 16.883883883883883, 16.984984984984983, 17.086086086086084, 17.187187187187188, 17.28828828828829, 17.38938938938939, 17.49049049049049, 17.59159159159159, 17.69269269269269, 17.793793793793792, 17.894894894894893, 17.995995995995994, 18.097097097097098, 18.1981981981982, 18.2992992992993, 18.4004004004004, 18.5015015015015, 18.6026026026026, 18.703703703703702, 18.804804804804803, 18.905905905905904, 19.007007007007008, 19.10810810810811, 19.20920920920921, 19.31031031031031, 19.41141141141141, 19.51251251251251, 19.613613613613612, 19.714714714714713, 19.815815815815814, 19.916916916916918, 20.01801801801802, 20.11911911911912, 20.22022022022022, 20.32132132132132, 20.42242242242242, 20.523523523523522, 20.624624624624623, 20.725725725725724, 20.826826826826828, 20.92792792792793, 21.02902902902903, 21.13013013013013, 21.23123123123123, 21.33233233233233, 21.433433433433432, 21.534534534534533, 21.635635635635634, 21.736736736736738, 21.83783783783784, 21.93893893893894, 22.04004004004004, 22.14114114114114, 22.24224224224224, 22.343343343343342, 22.444444444444443, 22.545545545545544, 22.646646646646644, 22.74774774774775, 22.84884884884885, 22.94994994994995, 23.05105105105105, 23.15215215215215, 23.253253253253252, 23.354354354354353, 23.455455455455454, 23.556556556556554, 23.65765765765766, 23.75875875875876, 23.85985985985986, 23.96096096096096, 24.06206206206206, 24.163163163163162, 24.264264264264263, 24.365365365365363, 24.466466466466464, 24.56756756756757, 24.66866866866867, 24.76976976976977, 24.87087087087087, 24.97197197197197, 25.073073073073072, 25.174174174174173, 25.275275275275273, 25.376376376376374, 25.47747747747748, 25.57857857857858, 25.67967967967968, 25.78078078078078, 25.88188188188188, 25.982982982982982, 26.084084084084083, 26.185185185185183, 26.286286286286284, 26.38738738738739, 26.48848848848849, 26.58958958958959, 26.69069069069069, 26.79179179179179, 26.892892892892892, 26.993993993993993, 27.095095095095093, 27.196196196196194, 27.2972972972973, 27.3983983983984, 27.4994994994995, 27.6006006006006, 27.7017017017017, 27.802802802802802, 27.903903903903903, 28.005005005005003, 28.106106106106104, 28.207207207207208, 28.30830830830831, 28.40940940940941, 28.51051051051051, 28.61161161161161, 28.71271271271271, 28.813813813813812, 28.914914914914913, 29.016016016016014, 29.117117117117118, 29.21821821821822, 29.31931931931932, 29.42042042042042, 29.52152152152152, 29.62262262262262, 29.723723723723722, 29.824824824824823, 29.925925925925924, 30.027027027027025, 30.12812812812813, 30.22922922922923, 30.33033033033033, 30.43143143143143, 30.53253253253253, 30.633633633633632, 30.734734734734733, 30.835835835835834, 30.936936936936934, 31.03803803803804, 31.13913913913914, 31.24024024024024, 31.34134134134134, 31.44244244244244, 31.543543543543542, 31.644644644644643, 31.745745745745744, 31.846846846846844, 31.94794794794795, 32.049049049049046, 32.15015015015015, 32.25125125125125, 32.352352352352355, 32.453453453453456, 32.55455455455456, 32.65565565565566, 32.75675675675676, 32.85785785785786, 32.95895895895896, 33.06006006006006, 33.16116116116116, 33.26226226226226, 33.36336336336336, 33.46446446446446, 33.565565565565564, 33.666666666666664, 33.767767767767765, 33.868868868868866, 33.969969969969966, 34.07107107107107, 34.17217217217217, 34.273273273273276, 34.374374374374376, 34.47547547547548, 34.57657657657658, 34.67767767767768, 34.77877877877878, 34.87987987987988, 34.98098098098098, 35.08208208208208, 35.18318318318318, 35.28428428428428, 35.38538538538538, 35.486486486486484, 35.587587587587585, 35.688688688688686, 35.789789789789786, 35.89089089089089, 35.99199199199199, 36.093093093093096, 36.194194194194196, 36.2952952952953, 36.3963963963964, 36.4974974974975, 36.5985985985986, 36.6996996996997, 36.8008008008008, 36.9019019019019, 37.003003003003, 37.1041041041041, 37.2052052052052, 37.306306306306304, 37.407407407407405, 37.508508508508505, 37.609609609609606, 37.71071071071071, 37.81181181181181, 37.912912912912915, 38.014014014014016, 38.11511511511512, 38.21621621621622, 38.31731731731732, 38.41841841841842, 38.51951951951952, 38.62062062062062, 38.72172172172172, 38.82282282282282, 38.92392392392392, 39.02502502502502, 39.126126126126124, 39.227227227227225, 39.328328328328325, 39.429429429429426, 39.53053053053053, 39.63163163163163, 39.73273273273273, 39.833833833833836, 39.93493493493494, 40.03603603603604, 40.13713713713714, 40.23823823823824, 40.33933933933934, 40.44044044044044, 40.54154154154154, 40.64264264264264, 40.74374374374374, 40.84484484484484, 40.945945945945944, 41.047047047047045, 41.148148148148145, 41.249249249249246, 41.35035035035035, 41.45145145145145, 41.55255255255255, 41.653653653653656, 41.75475475475476, 41.85585585585586, 41.95695695695696, 42.05805805805806, 42.15915915915916, 42.26026026026026, 42.36136136136136, 42.46246246246246, 42.56356356356356, 42.66466466466466, 42.765765765765764, 42.866866866866864, 42.967967967967965, 43.069069069069066, 43.17017017017017, 43.27127127127127, 43.37237237237237, 43.473473473473476, 43.57457457457458, 43.67567567567568, 43.77677677677678, 43.87787787787788, 43.97897897897898, 44.08008008008008, 44.18118118118118, 44.28228228228228, 44.38338338338338, 44.48448448448448, 44.585585585585584, 44.686686686686684, 44.787787787787785, 44.888888888888886, 44.989989989989986, 45.09109109109109, 45.19219219219219, 45.29329329329329, 45.394394394394396, 45.4954954954955, 45.5965965965966, 45.6976976976977, 45.7987987987988, 45.8998998998999, 46.001001001001, 46.1021021021021, 46.2032032032032, 46.3043043043043, 46.4054054054054, 46.506506506506504, 46.607607607607605, 46.708708708708706, 46.809809809809806, 46.91091091091091, 47.01201201201201, 47.11311311311311, 47.214214214214216, 47.31531531531532, 47.41641641641642, 47.51751751751752, 47.61861861861862, 47.71971971971972, 47.82082082082082, 47.92192192192192, 48.02302302302302, 48.12412412412412, 48.22522522522522, 48.326326326326324, 48.427427427427425, 48.528528528528525, 48.629629629629626, 48.73073073073073, 48.83183183183183, 48.93293293293293, 49.034034034034036, 49.13513513513514, 49.23623623623624, 49.33733733733734, 49.43843843843844, 49.53953953953954, 49.64064064064064, 49.74174174174174, 49.84284284284284, 49.94394394394394, 50.04504504504504, 50.146146146146144, 50.247247247247245, 50.348348348348345, 50.449449449449446, 50.55055055055055, 50.65165165165165, 50.75275275275275, 50.853853853853856, 50.95495495495496, 51.05605605605606, 51.15715715715716, 51.25825825825826, 51.35935935935936, 51.46046046046046, 51.56156156156156, 51.66266266266266, 51.76376376376376, 51.86486486486486, 51.965965965965964, 52.067067067067065, 52.168168168168165, 52.269269269269266, 52.37037037037037, 52.47147147147147, 52.57257257257257, 52.67367367367367, 52.77477477477478, 52.87587587587588, 52.97697697697698, 53.07807807807808, 53.17917917917918, 53.28028028028028, 53.38138138138138, 53.48248248248248, 53.58358358358358, 53.68468468468468, 53.785785785785784, 53.886886886886884, 53.987987987987985, 54.089089089089086, 54.19019019019019, 54.29129129129129, 54.39239239239239, 54.49349349349349, 54.5945945945946, 54.6956956956957, 54.7967967967968, 54.8978978978979, 54.998998998999, 55.1001001001001, 55.2012012012012, 55.3023023023023, 55.4034034034034, 55.5045045045045, 55.605605605605604, 55.706706706706704, 55.807807807807805, 55.908908908908906, 56.01001001001001, 56.11111111111111, 56.21221221221221, 56.31331331331331, 56.414414414414416, 56.51551551551552, 56.61661661661662, 56.71771771771772, 56.81881881881882, 56.91991991991992, 57.02102102102102, 57.12212212212212, 57.22322322322322, 57.32432432432432, 57.42542542542542, 57.526526526526524, 57.627627627627625, 57.728728728728726, 57.829829829829826, 57.93093093093093, 58.03203203203203, 58.13313313313313, 58.234234234234236, 58.33533533533534, 58.43643643643644, 58.53753753753754, 58.63863863863864, 58.73973973973974, 58.84084084084084, 58.94194194194194, 59.04304304304304, 59.14414414414414, 59.24524524524524, 59.346346346346344, 59.447447447447445, 59.548548548548546, 59.649649649649646, 59.75075075075075, 59.85185185185185, 59.95295295295295, 60.05405405405405, 60.15515515515516, 60.25625625625626, 60.35735735735736, 60.45845845845846, 60.55955955955956, 60.66066066066066, 60.76176176176176, 60.86286286286286, 60.96396396396396, 61.06506506506506, 61.166166166166164, 61.267267267267265, 61.368368368368365, 61.469469469469466, 61.57057057057057, 61.67167167167167, 61.77277277277277, 61.87387387387387, 61.97497497497498, 62.07607607607608, 62.17717717717718, 62.27827827827828, 62.37937937937938, 62.48048048048048, 62.58158158158158, 62.68268268268268, 62.78378378378378, 62.88488488488488, 62.985985985985984, 63.087087087087085, 63.188188188188185, 63.289289289289286, 63.39039039039039, 63.49149149149149, 63.59259259259259, 63.69369369369369, 63.7947947947948, 63.8958958958959, 63.996996996997, 64.09809809809809, 64.1991991991992, 64.3003003003003, 64.4014014014014, 64.5025025025025, 64.6036036036036, 64.70470470470471, 64.8058058058058, 64.90690690690691, 65.008008008008, 65.10910910910911, 65.2102102102102, 65.31131131131131, 65.41241241241241, 65.51351351351352, 65.61461461461461, 65.71571571571572, 65.81681681681681, 65.91791791791792, 66.01901901901901, 66.12012012012012, 66.22122122122121, 66.32232232232232, 66.42342342342342, 66.52452452452452, 66.62562562562563, 66.72672672672672, 66.82782782782783, 66.92892892892893, 67.03003003003003, 67.13113113113113, 67.23223223223223, 67.33333333333333, 67.43443443443444, 67.53553553553553, 67.63663663663664, 67.73773773773773, 67.83883883883884, 67.93993993993993, 68.04104104104104, 68.14214214214213, 68.24324324324324, 68.34434434434434, 68.44544544544544, 68.54654654654655, 68.64764764764764, 68.74874874874875, 68.84984984984985, 68.95095095095095, 69.05205205205205, 69.15315315315316, 69.25425425425425, 69.35535535535536, 69.45645645645645, 69.55755755755756, 69.65865865865865, 69.75975975975976, 69.86086086086085, 69.96196196196196, 70.06306306306305, 70.16416416416416, 70.26526526526527, 70.36636636636636, 70.46746746746747, 70.56856856856857, 70.66966966966967, 70.77077077077077, 70.87187187187187, 70.97297297297297, 71.07407407407408, 71.17517517517517, 71.27627627627628, 71.37737737737737, 71.47847847847848, 71.57957957957957, 71.68068068068068, 71.78178178178177, 71.88288288288288, 71.98398398398398, 72.08508508508508, 72.18618618618619, 72.28728728728728, 72.38838838838839, 72.48948948948949, 72.5905905905906, 72.69169169169169, 72.7927927927928, 72.89389389389389, 72.994994994995, 73.09609609609609, 73.1971971971972, 73.29829829829829, 73.3993993993994, 73.5005005005005, 73.6016016016016, 73.7027027027027, 73.8038038038038, 73.9049049049049, 74.006006006006, 74.10710710710711, 74.2082082082082, 74.30930930930931, 74.4104104104104, 74.51151151151151, 74.61261261261261, 74.71371371371372, 74.81481481481481, 74.91591591591592, 75.01701701701701, 75.11811811811812, 75.21921921921921, 75.32032032032032, 75.42142142142141, 75.52252252252252, 75.62362362362362, 75.72472472472472, 75.82582582582583, 75.92692692692692, 76.02802802802803, 76.12912912912913, 76.23023023023023, 76.33133133133133, 76.43243243243244, 76.53353353353353, 76.63463463463464, 76.73573573573573, 76.83683683683684, 76.93793793793793, 77.03903903903904, 77.14014014014013, 77.24124124124124, 77.34234234234233, 77.44344344344344, 77.54454454454454, 77.64564564564564, 77.74674674674675, 77.84784784784785, 77.94894894894895, 78.05005005005005, 78.15115115115115, 78.25225225225225, 78.35335335335336, 78.45445445445445, 78.55555555555556, 78.65665665665665, 78.75775775775776, 78.85885885885885, 78.95995995995996, 79.06106106106105, 79.16216216216216, 79.26326326326325, 79.36436436436436, 79.46546546546546, 79.56656656656656, 79.66766766766767, 79.76876876876877, 79.86986986986987, 79.97097097097097, 80.07207207207207, 80.17317317317317, 80.27427427427428, 80.37537537537537, 80.47647647647648, 80.57757757757757, 80.67867867867868, 80.77977977977977, 80.88088088088088, 80.98198198198197, 81.08308308308308, 81.18418418418418, 81.28528528528528, 81.38638638638639, 81.48748748748748, 81.58858858858859, 81.68968968968969, 81.7907907907908, 81.89189189189189, 81.992992992993, 82.09409409409409, 82.1951951951952, 82.29629629629629, 82.3973973973974, 82.49849849849849, 82.5995995995996, 82.7007007007007, 82.8018018018018, 82.9029029029029, 83.004004004004, 83.1051051051051, 83.2062062062062, 83.30730730730731, 83.4084084084084, 83.50950950950951, 83.6106106106106, 83.71171171171171, 83.81281281281281, 83.91391391391392, 84.01501501501501, 84.11611611611612, 84.21721721721721, 84.31831831831832, 84.41941941941941, 84.52052052052052, 84.62162162162161, 84.72272272272272, 84.82382382382382, 84.92492492492492, 85.02602602602602, 85.12712712712712, 85.22822822822823, 85.32932932932933, 85.43043043043043, 85.53153153153153, 85.63263263263264, 85.73373373373373, 85.83483483483484, 85.93593593593593, 86.03703703703704, 86.13813813813813, 86.23923923923924, 86.34034034034033, 86.44144144144144, 86.54254254254253, 86.64364364364364, 86.74474474474474, 86.84584584584584, 86.94694694694695, 87.04804804804805, 87.14914914914915, 87.25025025025025, 87.35135135135135, 87.45245245245245, 87.55355355355356, 87.65465465465465, 87.75575575575576, 87.85685685685685, 87.95795795795796, 88.05905905905905, 88.16016016016016, 88.26126126126125, 88.36236236236236, 88.46346346346346, 88.56456456456456, 88.66566566566566, 88.76676676676676, 88.86786786786787, 88.96896896896897, 89.07007007007007, 89.17117117117117, 89.27227227227228, 89.37337337337337, 89.47447447447448, 89.57557557557557, 89.67667667667668, 89.77777777777777, 89.87887887887888, 89.97997997997997, 90.08108108108108, 90.18218218218217, 90.28328328328328, 90.38438438438438, 90.48548548548548, 90.58658658658658, 90.68768768768768, 90.78878878878879, 90.88988988988989, 90.990990990991, 91.09209209209209, 91.1931931931932, 91.29429429429429, 91.3953953953954, 91.49649649649649, 91.5975975975976, 91.69869869869869, 91.7997997997998, 91.9009009009009, 92.002002002002, 92.1031031031031, 92.2042042042042, 92.3053053053053, 92.4064064064064, 92.50750750750751, 92.6086086086086, 92.70970970970971, 92.8108108108108, 92.91191191191191, 93.01301301301301, 93.11411411411412, 93.21521521521521, 93.31631631631632, 93.41741741741741, 93.51851851851852, 93.61961961961961, 93.72072072072072, 93.82182182182181, 93.92292292292292, 94.02402402402402, 94.12512512512512, 94.22622622622622, 94.32732732732732, 94.42842842842843, 94.52952952952953, 94.63063063063063, 94.73173173173173, 94.83283283283284, 94.93393393393393, 95.03503503503504, 95.13613613613613, 95.23723723723724, 95.33833833833833, 95.43943943943944, 95.54054054054053, 95.64164164164164, 95.74274274274273, 95.84384384384384, 95.94494494494494, 96.04604604604604, 96.14714714714715, 96.24824824824825, 96.34934934934935, 96.45045045045045, 96.55155155155155, 96.65265265265265, 96.75375375375376, 96.85485485485485, 96.95595595595596, 97.05705705705705, 97.15815815815816, 97.25925925925925, 97.36036036036036, 97.46146146146145, 97.56256256256256, 97.66366366366366, 97.76476476476476, 97.86586586586586, 97.96696696696696, 98.06806806806807, 98.16916916916917, 98.27027027027027, 98.37137137137137, 98.47247247247248, 98.57357357357357, 98.67467467467468, 98.77577577577577, 98.87687687687688, 98.97797797797797, 99.07907907907908, 99.18018018018017, 99.28128128128128, 99.38238238238237, 99.48348348348348, 99.58458458458458, 99.68568568568568, 99.78678678678678, 99.88788788788789, 99.988988988989, 100.09009009009009, 100.1911911911912, 100.29229229229229, 100.3933933933934, 100.49449449449449, 100.5955955955956, 100.69669669669669, 100.7977977977978, 100.89889889889889, 101.0], \"range\": [\"#9cd2e5\", \"#9cd2e5\", \"#9cd2e5\", \"#9cd2e5\", \"#98d1e5\", \"#98d1e5\", \"#98d1e5\", \"#98d1e5\", \"#94d0e5\", \"#94d0e5\", \"#94d0e5\", \"#94d0e5\", \"#90cfe5\", \"#90cfe5\", \"#90cfe5\", \"#90cfe5\", \"#8ccee6\", \"#8ccee6\", \"#8ccee6\", \"#8ccee6\", \"#88cde6\", \"#88cde6\", \"#88cde6\", \"#88cde6\", \"#84cce6\", \"#84cce6\", \"#84cce6\", \"#84cce6\", \"#80cce6\", \"#80cce6\", \"#80cce6\", \"#80cce6\", \"#7ccbe6\", \"#7ccbe6\", \"#7ccbe6\", \"#7ccbe6\", \"#78cae6\", \"#78cae6\", \"#78cae6\", \"#78cae6\", \"#74c9e7\", \"#74c9e7\", \"#74c9e7\", \"#70c8e7\", \"#70c8e7\", \"#70c8e7\", \"#70c8e7\", \"#6cc7e7\", \"#6cc7e7\", \"#6cc7e7\", \"#6cc7e7\", \"#68c6e7\", \"#68c6e7\", \"#68c6e7\", \"#68c6e7\", \"#64c5e7\", \"#64c5e7\", \"#64c5e7\", \"#64c5e7\", \"#60c4e7\", \"#60c4e7\", \"#60c4e7\", \"#60c4e7\", \"#5cc3e8\", \"#5cc3e8\", \"#5cc3e8\", \"#5cc3e8\", \"#58c2e8\", \"#58c2e8\", \"#58c2e8\", \"#58c2e8\", \"#54c1e8\", \"#54c1e8\", \"#54c1e8\", \"#54c1e8\", \"#50c0e8\", \"#50c0e8\", \"#50c0e8\", \"#50c0e8\", \"#4cbfe8\", \"#4cbfe8\", \"#4cbfe8\", \"#48bee8\", \"#48bee8\", \"#48bee8\", \"#48bee8\", \"#45bde9\", \"#45bde9\", \"#45bde9\", \"#45bde9\", \"#41bde9\", \"#41bde9\", \"#41bde9\", \"#41bde9\", \"#3dbce9\", \"#3dbce9\", \"#3dbce9\", \"#3dbce9\", \"#39bbe9\", \"#39bbe9\", \"#39bbe9\", \"#39bbe9\", \"#35bae9\", \"#35bae9\", \"#35bae9\", \"#35bae9\", \"#31b9e9\", \"#31b9e9\", \"#31b9e9\", \"#31b9e9\", \"#2db8ea\", \"#2db8ea\", \"#2db8ea\", \"#2db8ea\", \"#29b7ea\", \"#29b7ea\", \"#29b7ea\", \"#29b7ea\", \"#25b6ea\", \"#25b6ea\", \"#25b6ea\", \"#21b5ea\", \"#21b5ea\", \"#21b5ea\", \"#21b5ea\", \"#1db4ea\", \"#1db4ea\", \"#1db4ea\", \"#1db4ea\", \"#19b3ea\", \"#19b3ea\", \"#19b3ea\", \"#19b3ea\", \"#15b2eb\", \"#15b2eb\", \"#15b2eb\", \"#15b2eb\", \"#11b1eb\", \"#11b1eb\", \"#11b1eb\", \"#11b1eb\", \"#0db0eb\", \"#0db0eb\", \"#0db0eb\", \"#0db0eb\", \"#09afeb\", \"#09afeb\", \"#09afeb\", \"#09afeb\", \"#08afe9\", \"#08afe9\", \"#08afe9\", \"#08afe9\", \"#0aafe5\", \"#0aafe5\", \"#0aafe5\", \"#0aafe5\", \"#0cafe2\", \"#0cafe2\", \"#0cafe2\", \"#0eafde\", \"#0eafde\", \"#0eafde\", \"#0eafde\", \"#10afda\", \"#10afda\", \"#10afda\", \"#10afda\", \"#12afd7\", \"#12afd7\", \"#12afd7\", \"#12afd7\", \"#14afd3\", \"#14afd3\", \"#14afd3\", \"#14afd3\", \"#16afcf\", \"#16afcf\", \"#16afcf\", \"#16afcf\", \"#18afcc\", \"#18afcc\", \"#18afcc\", \"#18afcc\", \"#1ab0c8\", \"#1ab0c8\", \"#1ab0c8\", \"#1ab0c8\", \"#1cb0c4\", \"#1cb0c4\", \"#1cb0c4\", \"#1cb0c4\", \"#1eb0c0\", \"#1eb0c0\", \"#1eb0c0\", \"#1eb0c0\", \"#20b0bd\", \"#20b0bd\", \"#20b0bd\", \"#20b0bd\", \"#22b0b9\", \"#22b0b9\", \"#22b0b9\", \"#24b0b5\", \"#24b0b5\", \"#24b0b5\", \"#24b0b5\", \"#27b0b2\", \"#27b0b2\", \"#27b0b2\", \"#27b0b2\", \"#29b0ae\", \"#29b0ae\", \"#29b0ae\", \"#29b0ae\", \"#2bb0aa\", \"#2bb0aa\", \"#2bb0aa\", \"#2bb0aa\", \"#2db0a7\", \"#2db0a7\", \"#2db0a7\", \"#2db0a7\", \"#2fb0a3\", \"#2fb0a3\", \"#2fb0a3\", \"#2fb0a3\", \"#31b09f\", \"#31b09f\", \"#31b09f\", \"#31b09f\", \"#33b09b\", \"#33b09b\", \"#33b09b\", \"#33b09b\", \"#35b098\", \"#35b098\", \"#35b098\", \"#35b098\", \"#37b094\", \"#37b094\", \"#37b094\", \"#39b090\", \"#39b090\", \"#39b090\", \"#39b090\", \"#3bb18d\", \"#3bb18d\", \"#3bb18d\", \"#3bb18d\", \"#3db189\", \"#3db189\", \"#3db189\", \"#3db189\", \"#3fb185\", \"#3fb185\", \"#3fb185\", \"#3fb185\", \"#41b181\", \"#41b181\", \"#41b181\", \"#41b181\", \"#43b17e\", \"#43b17e\", \"#43b17e\", \"#43b17e\", \"#45b17a\", \"#45b17a\", \"#45b17a\", \"#45b17a\", \"#47b176\", \"#47b176\", \"#47b176\", \"#47b176\", \"#49b174\", \"#49b174\", \"#49b174\", \"#49b174\", \"#4ab272\", \"#4ab272\", \"#4ab272\", \"#4bb271\", \"#4bb271\", \"#4bb271\", \"#4bb271\", \"#4cb26f\", \"#4cb26f\", \"#4cb26f\", \"#4cb26f\", \"#4db36e\", \"#4db36e\", \"#4db36e\", \"#4db36e\", \"#4eb36c\", \"#4eb36c\", \"#4eb36c\", \"#4eb36c\", \"#50b36a\", \"#50b36a\", \"#50b36a\", \"#50b36a\", \"#51b469\", \"#51b469\", \"#51b469\", \"#51b469\", \"#52b467\", \"#52b467\", \"#52b467\", \"#52b467\", \"#53b465\", \"#53b465\", \"#53b465\", \"#53b465\", \"#54b564\", \"#54b564\", \"#54b564\", \"#54b564\", \"#55b562\", \"#55b562\", \"#55b562\", \"#57b661\", \"#57b661\", \"#57b661\", \"#57b661\", \"#58b65f\", \"#58b65f\", \"#58b65f\", \"#58b65f\", \"#59b65d\", \"#59b65d\", \"#59b65d\", \"#59b65d\", \"#5ab75c\", \"#5ab75c\", \"#5ab75c\", \"#5ab75c\", \"#5bb75a\", \"#5bb75a\", \"#5bb75a\", \"#5bb75a\", \"#5cb758\", \"#5cb758\", \"#5cb758\", \"#5cb758\", \"#5eb857\", \"#5eb857\", \"#5eb857\", \"#5eb857\", \"#5fb855\", \"#5fb855\", \"#5fb855\", \"#5fb855\", \"#60b854\", \"#60b854\", \"#60b854\", \"#60b854\", \"#61b952\", \"#61b952\", \"#61b952\", \"#61b952\", \"#62b950\", \"#62b950\", \"#62b950\", \"#63ba4f\", \"#63ba4f\", \"#63ba4f\", \"#63ba4f\", \"#65ba4d\", \"#65ba4d\", \"#65ba4d\", \"#65ba4d\", \"#66ba4b\", \"#66ba4b\", \"#66ba4b\", \"#66ba4b\", \"#67bb4a\", \"#67bb4a\", \"#67bb4a\", \"#67bb4a\", \"#68bb48\", \"#68bb48\", \"#68bb48\", \"#68bb48\", \"#69bb47\", \"#69bb47\", \"#69bb47\", \"#69bb47\", \"#6abc45\", \"#6abc45\", \"#6abc45\", \"#6abc45\", \"#6cbc43\", \"#6cbc43\", \"#6cbc43\", \"#6cbc43\", \"#6dbc42\", \"#6dbc42\", \"#6dbc42\", \"#6dbc42\", \"#6ebd40\", \"#6ebd40\", \"#6ebd40\", \"#6fbd3e\", \"#6fbd3e\", \"#6fbd3e\", \"#6fbd3e\", \"#70be3d\", \"#70be3d\", \"#70be3d\", \"#70be3d\", \"#71be3b\", \"#71be3b\", \"#71be3b\", \"#71be3b\", \"#73be3a\", \"#73be3a\", \"#73be3a\", \"#73be3a\", \"#74bf38\", \"#74bf38\", \"#74bf38\", \"#74bf38\", \"#75bf36\", \"#75bf36\", \"#75bf36\", \"#75bf36\", \"#76bf35\", \"#76bf35\", \"#76bf35\", \"#76bf35\", \"#77c033\", \"#77c033\", \"#77c033\", \"#77c033\", \"#79c032\", \"#79c032\", \"#79c032\", \"#79c032\", \"#7bc032\", \"#7bc032\", \"#7bc032\", \"#7cc031\", \"#7cc031\", \"#7cc031\", \"#7cc031\", \"#7ec031\", \"#7ec031\", \"#7ec031\", \"#7ec031\", \"#80c031\", \"#80c031\", \"#80c031\", \"#80c031\", \"#82c031\", \"#82c031\", \"#82c031\", \"#82c031\", \"#84c130\", \"#84c130\", \"#84c130\", \"#84c130\", \"#85c130\", \"#85c130\", \"#85c130\", \"#85c130\", \"#87c130\", \"#87c130\", \"#87c130\", \"#87c130\", \"#89c130\", \"#89c130\", \"#89c130\", \"#89c130\", \"#8bc12f\", \"#8bc12f\", \"#8bc12f\", \"#8bc12f\", \"#8dc12f\", \"#8dc12f\", \"#8dc12f\", \"#8ec12f\", \"#8ec12f\", \"#8ec12f\", \"#8ec12f\", \"#90c12f\", \"#90c12f\", \"#90c12f\", \"#90c12f\", \"#92c12f\", \"#92c12f\", \"#92c12f\", \"#92c12f\", \"#94c12e\", \"#94c12e\", \"#94c12e\", \"#94c12e\", \"#96c12e\", \"#96c12e\", \"#96c12e\", \"#96c12e\", \"#97c12e\", \"#97c12e\", \"#97c12e\", \"#97c12e\", \"#99c12e\", \"#99c12e\", \"#99c12e\", \"#99c12e\", \"#9bc22d\", \"#9bc22d\", \"#9bc22d\", \"#9bc22d\", \"#9dc22d\", \"#9dc22d\", \"#9dc22d\", \"#9dc22d\", \"#9fc22d\", \"#9fc22d\", \"#9fc22d\", \"#9fc22d\", \"#a0c22d\", \"#a0c22d\", \"#a0c22d\", \"#a2c22c\", \"#a2c22c\", \"#a2c22c\", \"#a2c22c\", \"#a4c22c\", \"#a4c22c\", \"#a4c22c\", \"#a4c22c\", \"#a6c22c\", \"#a6c22c\", \"#a6c22c\", \"#a6c22c\", \"#a8c22c\", \"#a8c22c\", \"#a8c22c\", \"#a8c22c\", \"#a9c22b\", \"#a9c22b\", \"#a9c22b\", \"#a9c22b\", \"#abc22b\", \"#abc22b\", \"#abc22b\", \"#abc22b\", \"#adc22b\", \"#adc22b\", \"#adc22b\", \"#adc22b\", \"#afc22b\", \"#afc22b\", \"#afc22b\", \"#afc22b\", \"#b1c22a\", \"#b1c22a\", \"#b1c22a\", \"#b1c22a\", \"#b2c32a\", \"#b2c32a\", \"#b2c32a\", \"#b4c32a\", \"#b4c32a\", \"#b4c32a\", \"#b4c32a\", \"#b6c32a\", \"#b6c32a\", \"#b6c32a\", \"#b6c32a\", \"#b8c329\", \"#b8c329\", \"#b8c329\", \"#b8c329\", \"#bac329\", \"#bac329\", \"#bac329\", \"#bac329\", \"#bcc329\", \"#bcc329\", \"#bcc329\", \"#bcc329\", \"#bdc329\", \"#bdc329\", \"#bdc329\", \"#bdc329\", \"#bfc328\", \"#bfc328\", \"#bfc328\", \"#bfc328\", \"#c1c328\", \"#c1c328\", \"#c1c328\", \"#c1c328\", \"#c3c328\", \"#c3c328\", \"#c3c328\", \"#c3c328\", \"#c5c328\", \"#c5c328\", \"#c5c328\", \"#c6c327\", \"#c6c327\", \"#c6c327\", \"#c6c327\", \"#c8c327\", \"#c8c327\", \"#c8c327\", \"#c8c327\", \"#cac427\", \"#cac427\", \"#cac427\", \"#cac427\", \"#ccc427\", \"#ccc427\", \"#ccc427\", \"#ccc427\", \"#cec427\", \"#cec427\", \"#cec427\", \"#cec427\", \"#cfc426\", \"#cfc426\", \"#cfc426\", \"#cfc426\", \"#d1c426\", \"#d1c426\", \"#d1c426\", \"#d1c426\", \"#d3c426\", \"#d3c426\", \"#d3c426\", \"#d3c426\", \"#d5c426\", \"#d5c426\", \"#d5c426\", \"#d5c426\", \"#d7c425\", \"#d7c425\", \"#d7c425\", \"#d8c425\", \"#d8c425\", \"#d8c425\", \"#d8c425\", \"#dac425\", \"#dac425\", \"#dac425\", \"#dac425\", \"#dcc425\", \"#dcc425\", \"#dcc425\", \"#dcc425\", \"#dec424\", \"#dec424\", \"#dec424\", \"#dec424\", \"#e0c524\", \"#e0c524\", \"#e0c524\", \"#e0c524\", \"#e1c524\", \"#e1c524\", \"#e1c524\", \"#e1c524\", \"#e3c524\", \"#e3c524\", \"#e3c524\", \"#e3c524\", \"#e5c523\", \"#e5c523\", \"#e5c523\", \"#e5c523\", \"#e7c523\", \"#e7c523\", \"#e7c523\", \"#e7c523\", \"#e9c523\", \"#e9c523\", \"#e9c523\", \"#e9c523\", \"#eac523\", \"#eac523\", \"#eac523\", \"#ecc522\", \"#ecc522\", \"#ecc522\", \"#ecc522\", \"#eec522\", \"#eec522\", \"#eec522\", \"#eec522\", \"#f0c522\", \"#f0c522\", \"#f0c522\", \"#f0c522\", \"#f2c522\", \"#f2c522\", \"#f2c522\", \"#f2c522\", \"#f3c521\", \"#f3c521\", \"#f3c521\", \"#f3c521\", \"#f5c521\", \"#f5c521\", \"#f5c521\", \"#f5c521\", \"#f7c621\", \"#f7c621\", \"#f7c621\", \"#f7c621\", \"#f9c621\", \"#f9c621\", \"#f9c621\", \"#f9c621\", \"#fbc620\", \"#fbc620\", \"#fbc620\", \"#fbc620\", \"#fcc620\", \"#fcc620\", \"#fcc620\", \"#fec620\", \"#fec620\", \"#fec620\", \"#fec620\", \"#ffc520\", \"#ffc520\", \"#ffc520\", \"#ffc520\", \"#fec220\", \"#fec220\", \"#fec220\", \"#fec220\", \"#fdc020\", \"#fdc020\", \"#fdc020\", \"#fdc020\", \"#fdbe21\", \"#fdbe21\", \"#fdbe21\", \"#fdbe21\", \"#fcbc21\", \"#fcbc21\", \"#fcbc21\", \"#fcbc21\", \"#fbb921\", \"#fbb921\", \"#fbb921\", \"#fbb921\", \"#fbb721\", \"#fbb721\", \"#fbb721\", \"#fbb721\", \"#fab522\", \"#fab522\", \"#fab522\", \"#fab522\", \"#f9b322\", \"#f9b322\", \"#f9b322\", \"#f9b122\", \"#f9b122\", \"#f9b122\", \"#f9b122\", \"#f8ae22\", \"#f8ae22\", \"#f8ae22\", \"#f8ae22\", \"#f7ac23\", \"#f7ac23\", \"#f7ac23\", \"#f7ac23\", \"#f6aa23\", \"#f6aa23\", \"#f6aa23\", \"#f6aa23\", \"#f6a823\", \"#f6a823\", \"#f6a823\", \"#f6a823\", \"#f5a623\", \"#f5a623\", \"#f5a623\", \"#f5a623\", \"#f4a323\", \"#f4a323\", \"#f4a323\", \"#f4a323\", \"#f4a124\", \"#f4a124\", \"#f4a124\", \"#f4a124\", \"#f39f24\", \"#f39f24\", \"#f39f24\", \"#f39f24\", \"#f29d24\", \"#f29d24\", \"#f29d24\", \"#f29b24\", \"#f29b24\", \"#f29b24\", \"#f29b24\", \"#f19825\", \"#f19825\", \"#f19825\", \"#f19825\", \"#f09625\", \"#f09625\", \"#f09625\", \"#f09625\", \"#f09425\", \"#f09425\", \"#f09425\", \"#f09425\", \"#ef9225\", \"#ef9225\", \"#ef9225\", \"#ef9225\", \"#ee9026\", \"#ee9026\", \"#ee9026\", \"#ee9026\", \"#ee8d26\", \"#ee8d26\", \"#ee8d26\", \"#ee8d26\", \"#ed8b26\", \"#ed8b26\", \"#ed8b26\", \"#ed8b26\", \"#ec8926\", \"#ec8926\", \"#ec8926\", \"#ec8926\", \"#ec8726\", \"#ec8726\", \"#ec8726\", \"#ec8726\", \"#eb8427\", \"#eb8427\", \"#eb8427\", \"#ea8227\", \"#ea8227\", \"#ea8227\", \"#ea8227\", \"#ea8027\", \"#ea8027\", \"#ea8027\", \"#ea8027\", \"#e97e27\", \"#e97e27\", \"#e97e27\", \"#e97e27\", \"#e87c28\", \"#e87c28\", \"#e87c28\", \"#e87c28\", \"#e87928\", \"#e87928\", \"#e87928\", \"#e87928\", \"#e77728\", \"#e77728\", \"#e77728\", \"#e77728\", \"#e67528\", \"#e67528\", \"#e67528\", \"#e67528\", \"#e67329\", \"#e67329\", \"#e67329\", \"#e67329\", \"#e57129\", \"#e57129\", \"#e57129\", \"#e57129\", \"#e46e29\", \"#e46e29\", \"#e46e29\", \"#e46c29\", \"#e46c29\", \"#e46c29\", \"#e46c29\", \"#e36a29\", \"#e36a29\", \"#e36a29\", \"#e36a29\", \"#e2682a\", \"#e2682a\", \"#e2682a\", \"#e2682a\", \"#e2662a\", \"#e2662a\", \"#e2662a\", \"#e2662a\", \"#e1632a\", \"#e1632a\", \"#e1632a\", \"#e1632a\", \"#e0612a\", \"#e0612a\", \"#e0612a\", \"#e0612a\", \"#e05f2b\", \"#e05f2b\", \"#e05f2b\", \"#e05f2b\", \"#df5d2b\", \"#df5d2b\", \"#df5d2b\", \"#df5d2b\", \"#de5a2b\", \"#de5a2b\", \"#de5a2b\", \"#de5a2b\", \"#de582b\", \"#de582b\", \"#de582b\", \"#dd562c\", \"#dd562c\", \"#dd562c\", \"#dd562c\", \"#dc542c\", \"#dc542c\", \"#dc542c\", \"#dc542c\", \"#dc522c\", \"#dc522c\", \"#dc522c\", \"#dc522c\", \"#db4f2c\", \"#db4f2c\", \"#db4f2c\", \"#db4f2c\", \"#da4d2c\", \"#da4d2c\", \"#da4d2c\", \"#da4d2c\", \"#da4b2d\", \"#da4b2d\", \"#da4b2d\", \"#da4b2d\", \"#d9492d\", \"#d9492d\", \"#d9492d\", \"#d9492d\", \"#d8472d\", \"#d8472d\", \"#d8472d\", \"#d8472d\", \"#d7442d\", \"#d7442d\", \"#d7442d\", \"#d7442d\", \"#d7422e\", \"#d7422e\", \"#d7422e\", \"#d6402e\", \"#d6402e\", \"#d6402e\", \"#d6402e\", \"#d53e2e\", \"#d53e2e\", \"#d53e2e\", \"#d53e2e\", \"#d53c2e\", \"#d53c2e\", \"#d53c2e\", \"#d53c2e\", \"#d4392f\", \"#d4392f\", \"#d4392f\", \"#d4392f\", \"#d3372f\", \"#d3372f\", \"#d3372f\", \"#d3372f\", \"#d3352f\", \"#d3352f\", \"#d3352f\", \"#d3352f\", \"#d2332f\", \"#d2332f\", \"#d2332f\", \"#d2332f\", \"#d1312f\", \"#d1312f\", \"#d1312f\", \"#d1312f\", \"#d12e30\", \"#d12e30\", \"#d12e30\", \"#d12e30\", \"#d02c30\", \"#d02c30\", \"#d02c30\", \"#d02c30\"]}, \"type\": \"quantitative\"}, \"x\": {\"field\": \"Date\", \"type\": \"temporal\"}, \"y\": {\"field\": \"y\", \"scale\": {\"domain\": [-50, 50]}, \"type\": \"quantitative\"}}, \"transform\": [{\"calculate\": \"datum.HMI - 50\", \"as\": \"y\"}], \"$schema\": \"https://vega.github.io/schema/vega-lite/v4.17.0.json\", \"datasets\": {\"data-e618f3d19b9ef1843228202fe2678bb3\": [{\"Year\": 1985, \"Month\": \"Jan\", \"HMI\": 50.0, \"Date\": \"1985-01-01T00:00:00\"}, {\"Year\": 1985, \"Month\": \"Feb\", \"HMI\": 58.0, \"Date\": \"1985-02-01T00:00:00\"}, {\"Year\": 1985, \"Month\": \"Mar\", \"HMI\": 54.0, \"Date\": \"1985-03-01T00:00:00\"}, {\"Year\": 1985, \"Month\": \"Apr\", \"HMI\": 49.0, \"Date\": \"1985-04-01T00:00:00\"}, {\"Year\": 1985, \"Month\": \"May\", \"HMI\": 51.0, \"Date\": \"1985-05-01T00:00:00\"}, {\"Year\": 1985, \"Month\": \"Jun\", \"HMI\": 54.0, \"Date\": \"1985-06-01T00:00:00\"}, {\"Year\": 1985, \"Month\": \"Jul\", \"HMI\": 58.0, \"Date\": \"1985-07-01T00:00:00\"}, {\"Year\": 1985, \"Month\": \"Aug\", \"HMI\": 58.0, \"Date\": \"1985-08-01T00:00:00\"}, {\"Year\": 1985, \"Month\": \"Sep\", \"HMI\": 56.0, \"Date\": \"1985-09-01T00:00:00\"}, {\"Year\": 1985, \"Month\": \"Oct\", \"HMI\": 59.0, \"Date\": \"1985-10-01T00:00:00\"}, {\"Year\": 1985, \"Month\": \"Nov\", \"HMI\": 58.0, \"Date\": \"1985-11-01T00:00:00\"}, {\"Year\": 1985, \"Month\": \"Dec\", \"HMI\": 57.0, \"Date\": \"1985-12-01T00:00:00\"}, {\"Year\": 1986, \"Month\": \"Jan\", \"HMI\": 57.0, \"Date\": \"1986-01-01T00:00:00\"}, {\"Year\": 1986, \"Month\": \"Feb\", \"HMI\": 55.0, \"Date\": \"1986-02-01T00:00:00\"}, {\"Year\": 1986, \"Month\": \"Mar\", \"HMI\": 57.0, \"Date\": \"1986-03-01T00:00:00\"}, {\"Year\": 1986, \"Month\": \"Apr\", \"HMI\": 62.0, \"Date\": \"1986-04-01T00:00:00\"}, {\"Year\": 1986, \"Month\": \"May\", \"HMI\": 64.0, \"Date\": \"1986-05-01T00:00:00\"}, {\"Year\": 1986, \"Month\": \"Jun\", \"HMI\": 65.0, \"Date\": \"1986-06-01T00:00:00\"}, {\"Year\": 1986, \"Month\": \"Jul\", \"HMI\": 59.0, \"Date\": \"1986-07-01T00:00:00\"}, {\"Year\": 1986, \"Month\": \"Aug\", \"HMI\": 55.0, \"Date\": \"1986-08-01T00:00:00\"}, {\"Year\": 1986, \"Month\": \"Sep\", \"HMI\": 57.0, \"Date\": \"1986-09-01T00:00:00\"}, {\"Year\": 1986, \"Month\": \"Oct\", \"HMI\": 64.0, \"Date\": \"1986-10-01T00:00:00\"}, {\"Year\": 1986, \"Month\": \"Nov\", \"HMI\": 59.0, \"Date\": \"1986-11-01T00:00:00\"}, {\"Year\": 1986, \"Month\": \"Dec\", \"HMI\": 64.0, \"Date\": \"1986-12-01T00:00:00\"}, {\"Year\": 1987, \"Month\": \"Jan\", \"HMI\": 63.0, \"Date\": \"1987-01-01T00:00:00\"}, {\"Year\": 1987, \"Month\": \"Feb\", \"HMI\": 60.0, \"Date\": \"1987-02-01T00:00:00\"}, {\"Year\": 1987, \"Month\": \"Mar\", \"HMI\": 60.0, \"Date\": \"1987-03-01T00:00:00\"}, {\"Year\": 1987, \"Month\": \"Apr\", \"HMI\": 59.0, \"Date\": \"1987-04-01T00:00:00\"}, {\"Year\": 1987, \"Month\": \"May\", \"HMI\": 55.0, \"Date\": \"1987-05-01T00:00:00\"}, {\"Year\": 1987, \"Month\": \"Jun\", \"HMI\": 56.0, \"Date\": \"1987-06-01T00:00:00\"}, {\"Year\": 1987, \"Month\": \"Jul\", \"HMI\": 55.0, \"Date\": \"1987-07-01T00:00:00\"}, {\"Year\": 1987, \"Month\": \"Aug\", \"HMI\": 54.0, \"Date\": \"1987-08-01T00:00:00\"}, {\"Year\": 1987, \"Month\": \"Sep\", \"HMI\": 52.0, \"Date\": \"1987-09-01T00:00:00\"}, {\"Year\": 1987, \"Month\": \"Oct\", \"HMI\": 50.0, \"Date\": \"1987-10-01T00:00:00\"}, {\"Year\": 1987, \"Month\": \"Nov\", \"HMI\": 56.0, \"Date\": \"1987-11-01T00:00:00\"}, {\"Year\": 1987, \"Month\": \"Dec\", \"HMI\": 51.0, \"Date\": \"1987-12-01T00:00:00\"}, {\"Year\": 1988, \"Month\": \"Jan\", \"HMI\": 53.0, \"Date\": \"1988-01-01T00:00:00\"}, {\"Year\": 1988, \"Month\": \"Feb\", \"HMI\": 51.0, \"Date\": \"1988-02-01T00:00:00\"}, {\"Year\": 1988, \"Month\": \"Mar\", \"HMI\": 51.0, \"Date\": \"1988-03-01T00:00:00\"}, {\"Year\": 1988, \"Month\": \"Apr\", \"HMI\": 52.0, \"Date\": \"1988-04-01T00:00:00\"}, {\"Year\": 1988, \"Month\": \"May\", \"HMI\": 54.0, \"Date\": \"1988-05-01T00:00:00\"}, {\"Year\": 1988, \"Month\": \"Jun\", \"HMI\": 49.0, \"Date\": \"1988-06-01T00:00:00\"}, {\"Year\": 1988, \"Month\": \"Jul\", \"HMI\": 54.0, \"Date\": \"1988-07-01T00:00:00\"}, {\"Year\": 1988, \"Month\": \"Aug\", \"HMI\": 56.0, \"Date\": \"1988-08-01T00:00:00\"}, {\"Year\": 1988, \"Month\": \"Sep\", \"HMI\": 53.0, \"Date\": \"1988-09-01T00:00:00\"}, {\"Year\": 1988, \"Month\": \"Oct\", \"HMI\": 49.0, \"Date\": \"1988-10-01T00:00:00\"}, {\"Year\": 1988, \"Month\": \"Nov\", \"HMI\": 58.0, \"Date\": \"1988-11-01T00:00:00\"}, {\"Year\": 1988, \"Month\": \"Dec\", \"HMI\": 60.0, \"Date\": \"1988-12-01T00:00:00\"}, {\"Year\": 1989, \"Month\": \"Jan\", \"HMI\": 54.0, \"Date\": \"1989-01-01T00:00:00\"}, {\"Year\": 1989, \"Month\": \"Feb\", \"HMI\": 53.0, \"Date\": \"1989-02-01T00:00:00\"}, {\"Year\": 1989, \"Month\": \"Mar\", \"HMI\": 48.0, \"Date\": \"1989-03-01T00:00:00\"}, {\"Year\": 1989, \"Month\": \"Apr\", \"HMI\": 44.0, \"Date\": \"1989-04-01T00:00:00\"}, {\"Year\": 1989, \"Month\": \"May\", \"HMI\": 44.0, \"Date\": \"1989-05-01T00:00:00\"}, {\"Year\": 1989, \"Month\": \"Jun\", \"HMI\": 45.0, \"Date\": \"1989-06-01T00:00:00\"}, {\"Year\": 1989, \"Month\": \"Jul\", \"HMI\": 46.0, \"Date\": \"1989-07-01T00:00:00\"}, {\"Year\": 1989, \"Month\": \"Aug\", \"HMI\": 50.0, \"Date\": \"1989-08-01T00:00:00\"}, {\"Year\": 1989, \"Month\": \"Sep\", \"HMI\": 51.0, \"Date\": \"1989-09-01T00:00:00\"}, {\"Year\": 1989, \"Month\": \"Oct\", \"HMI\": 48.0, \"Date\": \"1989-10-01T00:00:00\"}, {\"Year\": 1989, \"Month\": \"Nov\", \"HMI\": 46.0, \"Date\": \"1989-11-01T00:00:00\"}, {\"Year\": 1989, \"Month\": \"Dec\", \"HMI\": 43.0, \"Date\": \"1989-12-01T00:00:00\"}, {\"Year\": 1990, \"Month\": \"Jan\", \"HMI\": 42.0, \"Date\": \"1990-01-01T00:00:00\"}, {\"Year\": 1990, \"Month\": \"Feb\", \"HMI\": 44.0, \"Date\": \"1990-02-01T00:00:00\"}, {\"Year\": 1990, \"Month\": \"Mar\", \"HMI\": 40.0, \"Date\": \"1990-03-01T00:00:00\"}, {\"Year\": 1990, \"Month\": \"Apr\", \"HMI\": 39.0, \"Date\": \"1990-04-01T00:00:00\"}, {\"Year\": 1990, \"Month\": \"May\", \"HMI\": 36.0, \"Date\": \"1990-05-01T00:00:00\"}, {\"Year\": 1990, \"Month\": \"Jun\", \"HMI\": 36.0, \"Date\": \"1990-06-01T00:00:00\"}, {\"Year\": 1990, \"Month\": \"Jul\", \"HMI\": 32.0, \"Date\": \"1990-07-01T00:00:00\"}, {\"Year\": 1990, \"Month\": \"Aug\", \"HMI\": 30.0, \"Date\": \"1990-08-01T00:00:00\"}, {\"Year\": 1990, \"Month\": \"Sep\", \"HMI\": 31.0, \"Date\": \"1990-09-01T00:00:00\"}, {\"Year\": 1990, \"Month\": \"Oct\", \"HMI\": 28.0, \"Date\": \"1990-10-01T00:00:00\"}, {\"Year\": 1990, \"Month\": \"Nov\", \"HMI\": 25.0, \"Date\": \"1990-11-01T00:00:00\"}, {\"Year\": 1990, \"Month\": \"Dec\", \"HMI\": 22.0, \"Date\": \"1990-12-01T00:00:00\"}, {\"Year\": 1991, \"Month\": \"Jan\", \"HMI\": 20.0, \"Date\": \"1991-01-01T00:00:00\"}, {\"Year\": 1991, \"Month\": \"Feb\", \"HMI\": 27.0, \"Date\": \"1991-02-01T00:00:00\"}, {\"Year\": 1991, \"Month\": \"Mar\", \"HMI\": 36.0, \"Date\": \"1991-03-01T00:00:00\"}, {\"Year\": 1991, \"Month\": \"Apr\", \"HMI\": 41.0, \"Date\": \"1991-04-01T00:00:00\"}, {\"Year\": 1991, \"Month\": \"May\", \"HMI\": 40.0, \"Date\": \"1991-05-01T00:00:00\"}, {\"Year\": 1991, \"Month\": \"Jun\", \"HMI\": 42.0, \"Date\": \"1991-06-01T00:00:00\"}, {\"Year\": 1991, \"Month\": \"Jul\", \"HMI\": 41.0, \"Date\": \"1991-07-01T00:00:00\"}, {\"Year\": 1991, \"Month\": \"Aug\", \"HMI\": 36.0, \"Date\": \"1991-08-01T00:00:00\"}, {\"Year\": 1991, \"Month\": \"Sep\", \"HMI\": 37.0, \"Date\": \"1991-09-01T00:00:00\"}, {\"Year\": 1991, \"Month\": \"Oct\", \"HMI\": 37.0, \"Date\": \"1991-10-01T00:00:00\"}, {\"Year\": 1991, \"Month\": \"Nov\", \"HMI\": 37.0, \"Date\": \"1991-11-01T00:00:00\"}, {\"Year\": 1991, \"Month\": \"Dec\", \"HMI\": 35.0, \"Date\": \"1991-12-01T00:00:00\"}, {\"Year\": 1992, \"Month\": \"Jan\", \"HMI\": 44.0, \"Date\": \"1992-01-01T00:00:00\"}, {\"Year\": 1992, \"Month\": \"Feb\", \"HMI\": 49.0, \"Date\": \"1992-02-01T00:00:00\"}, {\"Year\": 1992, \"Month\": \"Mar\", \"HMI\": 46.0, \"Date\": \"1992-03-01T00:00:00\"}, {\"Year\": 1992, \"Month\": \"Apr\", \"HMI\": 46.0, \"Date\": \"1992-04-01T00:00:00\"}, {\"Year\": 1992, \"Month\": \"May\", \"HMI\": 47.0, \"Date\": \"1992-05-01T00:00:00\"}, {\"Year\": 1992, \"Month\": \"Jun\", \"HMI\": 45.0, \"Date\": \"1992-06-01T00:00:00\"}, {\"Year\": 1992, \"Month\": \"Jul\", \"HMI\": 46.0, \"Date\": \"1992-07-01T00:00:00\"}, {\"Year\": 1992, \"Month\": \"Aug\", \"HMI\": 49.0, \"Date\": \"1992-08-01T00:00:00\"}, {\"Year\": 1992, \"Month\": \"Sep\", \"HMI\": 48.0, \"Date\": \"1992-09-01T00:00:00\"}, {\"Year\": 1992, \"Month\": \"Oct\", \"HMI\": 50.0, \"Date\": \"1992-10-01T00:00:00\"}, {\"Year\": 1992, \"Month\": \"Nov\", \"HMI\": 54.0, \"Date\": \"1992-11-01T00:00:00\"}, {\"Year\": 1992, \"Month\": \"Dec\", \"HMI\": 56.0, \"Date\": \"1992-12-01T00:00:00\"}, {\"Year\": 1993, \"Month\": \"Jan\", \"HMI\": 55.0, \"Date\": \"1993-01-01T00:00:00\"}, {\"Year\": 1993, \"Month\": \"Feb\", \"HMI\": 52.0, \"Date\": \"1993-02-01T00:00:00\"}, {\"Year\": 1993, \"Month\": \"Mar\", \"HMI\": 53.0, \"Date\": \"1993-03-01T00:00:00\"}, {\"Year\": 1993, \"Month\": \"Apr\", \"HMI\": 52.0, \"Date\": \"1993-04-01T00:00:00\"}, {\"Year\": 1993, \"Month\": \"May\", \"HMI\": 51.0, \"Date\": \"1993-05-01T00:00:00\"}, {\"Year\": 1993, \"Month\": \"Jun\", \"HMI\": 53.0, \"Date\": \"1993-06-01T00:00:00\"}, {\"Year\": 1993, \"Month\": \"Jul\", \"HMI\": 57.0, \"Date\": \"1993-07-01T00:00:00\"}, {\"Year\": 1993, \"Month\": \"Aug\", \"HMI\": 60.0, \"Date\": \"1993-08-01T00:00:00\"}, {\"Year\": 1993, \"Month\": \"Sep\", \"HMI\": 62.0, \"Date\": \"1993-09-01T00:00:00\"}, {\"Year\": 1993, \"Month\": \"Oct\", \"HMI\": 66.0, \"Date\": \"1993-10-01T00:00:00\"}, {\"Year\": 1993, \"Month\": \"Nov\", \"HMI\": 71.0, \"Date\": \"1993-11-01T00:00:00\"}, {\"Year\": 1993, \"Month\": \"Dec\", \"HMI\": 71.0, \"Date\": \"1993-12-01T00:00:00\"}, {\"Year\": 1994, \"Month\": \"Jan\", \"HMI\": 70.0, \"Date\": \"1994-01-01T00:00:00\"}, {\"Year\": 1994, \"Month\": \"Feb\", \"HMI\": 64.0, \"Date\": \"1994-02-01T00:00:00\"}, {\"Year\": 1994, \"Month\": \"Mar\", \"HMI\": 61.0, \"Date\": \"1994-03-01T00:00:00\"}, {\"Year\": 1994, \"Month\": \"Apr\", \"HMI\": 61.0, \"Date\": \"1994-04-01T00:00:00\"}, {\"Year\": 1994, \"Month\": \"May\", \"HMI\": 59.0, \"Date\": \"1994-05-01T00:00:00\"}, {\"Year\": 1994, \"Month\": \"Jun\", \"HMI\": 57.0, \"Date\": \"1994-06-01T00:00:00\"}, {\"Year\": 1994, \"Month\": \"Jul\", \"HMI\": 53.0, \"Date\": \"1994-07-01T00:00:00\"}, {\"Year\": 1994, \"Month\": \"Aug\", \"HMI\": 53.0, \"Date\": \"1994-08-01T00:00:00\"}, {\"Year\": 1994, \"Month\": \"Sep\", \"HMI\": 50.0, \"Date\": \"1994-09-01T00:00:00\"}, {\"Year\": 1994, \"Month\": \"Oct\", \"HMI\": 49.0, \"Date\": \"1994-10-01T00:00:00\"}, {\"Year\": 1994, \"Month\": \"Nov\", \"HMI\": 50.0, \"Date\": \"1994-11-01T00:00:00\"}, {\"Year\": 1994, \"Month\": \"Dec\", \"HMI\": 43.0, \"Date\": \"1994-12-01T00:00:00\"}, {\"Year\": 1995, \"Month\": \"Jan\", \"HMI\": 40.0, \"Date\": \"1995-01-01T00:00:00\"}, {\"Year\": 1995, \"Month\": \"Feb\", \"HMI\": 42.0, \"Date\": \"1995-02-01T00:00:00\"}, {\"Year\": 1995, \"Month\": \"Mar\", \"HMI\": 40.0, \"Date\": \"1995-03-01T00:00:00\"}, {\"Year\": 1995, \"Month\": \"Apr\", \"HMI\": 42.0, \"Date\": \"1995-04-01T00:00:00\"}, {\"Year\": 1995, \"Month\": \"May\", \"HMI\": 43.0, \"Date\": \"1995-05-01T00:00:00\"}, {\"Year\": 1995, \"Month\": \"Jun\", \"HMI\": 45.0, \"Date\": \"1995-06-01T00:00:00\"}, {\"Year\": 1995, \"Month\": \"Jul\", \"HMI\": 49.0, \"Date\": \"1995-07-01T00:00:00\"}, {\"Year\": 1995, \"Month\": \"Aug\", \"HMI\": 50.0, \"Date\": \"1995-08-01T00:00:00\"}, {\"Year\": 1995, \"Month\": \"Sep\", \"HMI\": 51.0, \"Date\": \"1995-09-01T00:00:00\"}, {\"Year\": 1995, \"Month\": \"Oct\", \"HMI\": 55.0, \"Date\": \"1995-10-01T00:00:00\"}, {\"Year\": 1995, \"Month\": \"Nov\", \"HMI\": 52.0, \"Date\": \"1995-11-01T00:00:00\"}, {\"Year\": 1995, \"Month\": \"Dec\", \"HMI\": 53.0, \"Date\": \"1995-12-01T00:00:00\"}, {\"Year\": 1996, \"Month\": \"Jan\", \"HMI\": 54.0, \"Date\": \"1996-01-01T00:00:00\"}, {\"Year\": 1996, \"Month\": \"Feb\", \"HMI\": 49.0, \"Date\": \"1996-02-01T00:00:00\"}, {\"Year\": 1996, \"Month\": \"Mar\", \"HMI\": 59.0, \"Date\": \"1996-03-01T00:00:00\"}, {\"Year\": 1996, \"Month\": \"Apr\", \"HMI\": 60.0, \"Date\": \"1996-04-01T00:00:00\"}, {\"Year\": 1996, \"Month\": \"May\", \"HMI\": 61.0, \"Date\": \"1996-05-01T00:00:00\"}, {\"Year\": 1996, \"Month\": \"Jun\", \"HMI\": 59.0, \"Date\": \"1996-06-01T00:00:00\"}, {\"Year\": 1996, \"Month\": \"Jul\", \"HMI\": 58.0, \"Date\": \"1996-07-01T00:00:00\"}, {\"Year\": 1996, \"Month\": \"Aug\", \"HMI\": 56.0, \"Date\": \"1996-08-01T00:00:00\"}, {\"Year\": 1996, \"Month\": \"Sep\", \"HMI\": 55.0, \"Date\": \"1996-09-01T00:00:00\"}, {\"Year\": 1996, \"Month\": \"Oct\", \"HMI\": 56.0, \"Date\": \"1996-10-01T00:00:00\"}, {\"Year\": 1996, \"Month\": \"Nov\", \"HMI\": 54.0, \"Date\": \"1996-11-01T00:00:00\"}, {\"Year\": 1996, \"Month\": \"Dec\", \"HMI\": 55.0, \"Date\": \"1996-12-01T00:00:00\"}, {\"Year\": 1997, \"Month\": \"Jan\", \"HMI\": 54.0, \"Date\": \"1997-01-01T00:00:00\"}, {\"Year\": 1997, \"Month\": \"Feb\", \"HMI\": 52.0, \"Date\": \"1997-02-01T00:00:00\"}, {\"Year\": 1997, \"Month\": \"Mar\", \"HMI\": 57.0, \"Date\": \"1997-03-01T00:00:00\"}, {\"Year\": 1997, \"Month\": \"Apr\", \"HMI\": 56.0, \"Date\": \"1997-04-01T00:00:00\"}, {\"Year\": 1997, \"Month\": \"May\", \"HMI\": 55.0, \"Date\": \"1997-05-01T00:00:00\"}, {\"Year\": 1997, \"Month\": \"Jun\", \"HMI\": 56.0, \"Date\": \"1997-06-01T00:00:00\"}, {\"Year\": 1997, \"Month\": \"Jul\", \"HMI\": 55.0, \"Date\": \"1997-07-01T00:00:00\"}, {\"Year\": 1997, \"Month\": \"Aug\", \"HMI\": 58.0, \"Date\": \"1997-08-01T00:00:00\"}, {\"Year\": 1997, \"Month\": \"Sep\", \"HMI\": 59.0, \"Date\": \"1997-09-01T00:00:00\"}, {\"Year\": 1997, \"Month\": \"Oct\", \"HMI\": 59.0, \"Date\": \"1997-10-01T00:00:00\"}, {\"Year\": 1997, \"Month\": \"Nov\", \"HMI\": 58.0, \"Date\": \"1997-11-01T00:00:00\"}, {\"Year\": 1997, \"Month\": \"Dec\", \"HMI\": 60.0, \"Date\": \"1997-12-01T00:00:00\"}, {\"Year\": 1998, \"Month\": \"Jan\", \"HMI\": 60.0, \"Date\": \"1998-01-01T00:00:00\"}, {\"Year\": 1998, \"Month\": \"Feb\", \"HMI\": 65.0, \"Date\": \"1998-02-01T00:00:00\"}, {\"Year\": 1998, \"Month\": \"Mar\", \"HMI\": 66.0, \"Date\": \"1998-03-01T00:00:00\"}, {\"Year\": 1998, \"Month\": \"Apr\", \"HMI\": 67.0, \"Date\": \"1998-04-01T00:00:00\"}, {\"Year\": 1998, \"Month\": \"May\", \"HMI\": 67.0, \"Date\": \"1998-05-01T00:00:00\"}, {\"Year\": 1998, \"Month\": \"Jun\", \"HMI\": 70.0, \"Date\": \"1998-06-01T00:00:00\"}, {\"Year\": 1998, \"Month\": \"Jul\", \"HMI\": 71.0, \"Date\": \"1998-07-01T00:00:00\"}, {\"Year\": 1998, \"Month\": \"Aug\", \"HMI\": 72.0, \"Date\": \"1998-08-01T00:00:00\"}, {\"Year\": 1998, \"Month\": \"Sep\", \"HMI\": 71.0, \"Date\": \"1998-09-01T00:00:00\"}, {\"Year\": 1998, \"Month\": \"Oct\", \"HMI\": 73.0, \"Date\": \"1998-10-01T00:00:00\"}, {\"Year\": 1998, \"Month\": \"Nov\", \"HMI\": 77.0, \"Date\": \"1998-11-01T00:00:00\"}, {\"Year\": 1998, \"Month\": \"Dec\", \"HMI\": 78.0, \"Date\": \"1998-12-01T00:00:00\"}, {\"Year\": 1999, \"Month\": \"Jan\", \"HMI\": 75.0, \"Date\": \"1999-01-01T00:00:00\"}, {\"Year\": 1999, \"Month\": \"Feb\", \"HMI\": 71.0, \"Date\": \"1999-02-01T00:00:00\"}, {\"Year\": 1999, \"Month\": \"Mar\", \"HMI\": 71.0, \"Date\": \"1999-03-01T00:00:00\"}, {\"Year\": 1999, \"Month\": \"Apr\", \"HMI\": 71.0, \"Date\": \"1999-04-01T00:00:00\"}, {\"Year\": 1999, \"Month\": \"May\", \"HMI\": 75.0, \"Date\": \"1999-05-01T00:00:00\"}, {\"Year\": 1999, \"Month\": \"Jun\", \"HMI\": 77.0, \"Date\": \"1999-06-01T00:00:00\"}, {\"Year\": 1999, \"Month\": \"Jul\", \"HMI\": 75.0, \"Date\": \"1999-07-01T00:00:00\"}, {\"Year\": 1999, \"Month\": \"Aug\", \"HMI\": 72.0, \"Date\": \"1999-08-01T00:00:00\"}, {\"Year\": 1999, \"Month\": \"Sep\", \"HMI\": 72.0, \"Date\": \"1999-09-01T00:00:00\"}, {\"Year\": 1999, \"Month\": \"Oct\", \"HMI\": 69.0, \"Date\": \"1999-10-01T00:00:00\"}, {\"Year\": 1999, \"Month\": \"Nov\", \"HMI\": 70.0, \"Date\": \"1999-11-01T00:00:00\"}, {\"Year\": 1999, \"Month\": \"Dec\", \"HMI\": 70.0, \"Date\": \"1999-12-01T00:00:00\"}, {\"Year\": 2000, \"Month\": \"Jan\", \"HMI\": 69.0, \"Date\": \"2000-01-01T00:00:00\"}, {\"Year\": 2000, \"Month\": \"Feb\", \"HMI\": 68.0, \"Date\": \"2000-02-01T00:00:00\"}, {\"Year\": 2000, \"Month\": \"Mar\", \"HMI\": 64.0, \"Date\": \"2000-03-01T00:00:00\"}, {\"Year\": 2000, \"Month\": \"Apr\", \"HMI\": 63.0, \"Date\": \"2000-04-01T00:00:00\"}, {\"Year\": 2000, \"Month\": \"May\", \"HMI\": 63.0, \"Date\": \"2000-05-01T00:00:00\"}, {\"Year\": 2000, \"Month\": \"Jun\", \"HMI\": 58.0, \"Date\": \"2000-06-01T00:00:00\"}, {\"Year\": 2000, \"Month\": \"Jul\", \"HMI\": 59.0, \"Date\": \"2000-07-01T00:00:00\"}, {\"Year\": 2000, \"Month\": \"Aug\", \"HMI\": 60.0, \"Date\": \"2000-08-01T00:00:00\"}, {\"Year\": 2000, \"Month\": \"Sep\", \"HMI\": 60.0, \"Date\": \"2000-09-01T00:00:00\"}, {\"Year\": 2000, \"Month\": \"Oct\", \"HMI\": 62.0, \"Date\": \"2000-10-01T00:00:00\"}, {\"Year\": 2000, \"Month\": \"Nov\", \"HMI\": 63.0, \"Date\": \"2000-11-01T00:00:00\"}, {\"Year\": 2000, \"Month\": \"Dec\", \"HMI\": 57.0, \"Date\": \"2000-12-01T00:00:00\"}, {\"Year\": 2001, \"Month\": \"Jan\", \"HMI\": 52.0, \"Date\": \"2001-01-01T00:00:00\"}, {\"Year\": 2001, \"Month\": \"Feb\", \"HMI\": 58.0, \"Date\": \"2001-02-01T00:00:00\"}, {\"Year\": 2001, \"Month\": \"Mar\", \"HMI\": 60.0, \"Date\": \"2001-03-01T00:00:00\"}, {\"Year\": 2001, \"Month\": \"Apr\", \"HMI\": 59.0, \"Date\": \"2001-04-01T00:00:00\"}, {\"Year\": 2001, \"Month\": \"May\", \"HMI\": 58.0, \"Date\": \"2001-05-01T00:00:00\"}, {\"Year\": 2001, \"Month\": \"Jun\", \"HMI\": 59.0, \"Date\": \"2001-06-01T00:00:00\"}, {\"Year\": 2001, \"Month\": \"Jul\", \"HMI\": 57.0, \"Date\": \"2001-07-01T00:00:00\"}, {\"Year\": 2001, \"Month\": \"Aug\", \"HMI\": 59.0, \"Date\": \"2001-08-01T00:00:00\"}, {\"Year\": 2001, \"Month\": \"Sep\", \"HMI\": 55.0, \"Date\": \"2001-09-01T00:00:00\"}, {\"Year\": 2001, \"Month\": \"Oct\", \"HMI\": 46.0, \"Date\": \"2001-10-01T00:00:00\"}, {\"Year\": 2001, \"Month\": \"Nov\", \"HMI\": 48.0, \"Date\": \"2001-11-01T00:00:00\"}, {\"Year\": 2001, \"Month\": \"Dec\", \"HMI\": 55.0, \"Date\": \"2001-12-01T00:00:00\"}, {\"Year\": 2002, \"Month\": \"Jan\", \"HMI\": 58.0, \"Date\": \"2002-01-01T00:00:00\"}, {\"Year\": 2002, \"Month\": \"Feb\", \"HMI\": 58.0, \"Date\": \"2002-02-01T00:00:00\"}, {\"Year\": 2002, \"Month\": \"Mar\", \"HMI\": 62.0, \"Date\": \"2002-03-01T00:00:00\"}, {\"Year\": 2002, \"Month\": \"Apr\", \"HMI\": 61.0, \"Date\": \"2002-04-01T00:00:00\"}, {\"Year\": 2002, \"Month\": \"May\", \"HMI\": 61.0, \"Date\": \"2002-05-01T00:00:00\"}, {\"Year\": 2002, \"Month\": \"Jun\", \"HMI\": 61.0, \"Date\": \"2002-06-01T00:00:00\"}, {\"Year\": 2002, \"Month\": \"Jul\", \"HMI\": 61.0, \"Date\": \"2002-07-01T00:00:00\"}, {\"Year\": 2002, \"Month\": \"Aug\", \"HMI\": 55.0, \"Date\": \"2002-08-01T00:00:00\"}, {\"Year\": 2002, \"Month\": \"Sep\", \"HMI\": 63.0, \"Date\": \"2002-09-01T00:00:00\"}, {\"Year\": 2002, \"Month\": \"Oct\", \"HMI\": 61.0, \"Date\": \"2002-10-01T00:00:00\"}, {\"Year\": 2002, \"Month\": \"Nov\", \"HMI\": 62.0, \"Date\": \"2002-11-01T00:00:00\"}, {\"Year\": 2002, \"Month\": \"Dec\", \"HMI\": 63.0, \"Date\": \"2002-12-01T00:00:00\"}, {\"Year\": 2003, \"Month\": \"Jan\", \"HMI\": 62.0, \"Date\": \"2003-01-01T00:00:00\"}, {\"Year\": 2003, \"Month\": \"Feb\", \"HMI\": 63.0, \"Date\": \"2003-02-01T00:00:00\"}, {\"Year\": 2003, \"Month\": \"Mar\", \"HMI\": 56.0, \"Date\": \"2003-03-01T00:00:00\"}, {\"Year\": 2003, \"Month\": \"Apr\", \"HMI\": 55.0, \"Date\": \"2003-04-01T00:00:00\"}, {\"Year\": 2003, \"Month\": \"May\", \"HMI\": 60.0, \"Date\": \"2003-05-01T00:00:00\"}, {\"Year\": 2003, \"Month\": \"Jun\", \"HMI\": 63.0, \"Date\": \"2003-06-01T00:00:00\"}, {\"Year\": 2003, \"Month\": \"Jul\", \"HMI\": 65.0, \"Date\": \"2003-07-01T00:00:00\"}, {\"Year\": 2003, \"Month\": \"Aug\", \"HMI\": 67.0, \"Date\": \"2003-08-01T00:00:00\"}, {\"Year\": 2003, \"Month\": \"Sep\", \"HMI\": 67.0, \"Date\": \"2003-09-01T00:00:00\"}, {\"Year\": 2003, \"Month\": \"Oct\", \"HMI\": 69.0, \"Date\": \"2003-10-01T00:00:00\"}, {\"Year\": 2003, \"Month\": \"Nov\", \"HMI\": 68.0, \"Date\": \"2003-11-01T00:00:00\"}, {\"Year\": 2003, \"Month\": \"Dec\", \"HMI\": 69.0, \"Date\": \"2003-12-01T00:00:00\"}, {\"Year\": 2004, \"Month\": \"Jan\", \"HMI\": 68.0, \"Date\": \"2004-01-01T00:00:00\"}, {\"Year\": 2004, \"Month\": \"Feb\", \"HMI\": 66.0, \"Date\": \"2004-02-01T00:00:00\"}, {\"Year\": 2004, \"Month\": \"Mar\", \"HMI\": 66.0, \"Date\": \"2004-03-01T00:00:00\"}, {\"Year\": 2004, \"Month\": \"Apr\", \"HMI\": 69.0, \"Date\": \"2004-04-01T00:00:00\"}, {\"Year\": 2004, \"Month\": \"May\", \"HMI\": 69.0, \"Date\": \"2004-05-01T00:00:00\"}, {\"Year\": 2004, \"Month\": \"Jun\", \"HMI\": 68.0, \"Date\": \"2004-06-01T00:00:00\"}, {\"Year\": 2004, \"Month\": \"Jul\", \"HMI\": 67.0, \"Date\": \"2004-07-01T00:00:00\"}, {\"Year\": 2004, \"Month\": \"Aug\", \"HMI\": 70.0, \"Date\": \"2004-08-01T00:00:00\"}, {\"Year\": 2004, \"Month\": \"Sep\", \"HMI\": 67.0, \"Date\": \"2004-09-01T00:00:00\"}, {\"Year\": 2004, \"Month\": \"Oct\", \"HMI\": 69.0, \"Date\": \"2004-10-01T00:00:00\"}, {\"Year\": 2004, \"Month\": \"Nov\", \"HMI\": 70.0, \"Date\": \"2004-11-01T00:00:00\"}, {\"Year\": 2004, \"Month\": \"Dec\", \"HMI\": 71.0, \"Date\": \"2004-12-01T00:00:00\"}, {\"Year\": 2005, \"Month\": \"Jan\", \"HMI\": 70.0, \"Date\": \"2005-01-01T00:00:00\"}, {\"Year\": 2005, \"Month\": \"Feb\", \"HMI\": 69.0, \"Date\": \"2005-02-01T00:00:00\"}, {\"Year\": 2005, \"Month\": \"Mar\", \"HMI\": 70.0, \"Date\": \"2005-03-01T00:00:00\"}, {\"Year\": 2005, \"Month\": \"Apr\", \"HMI\": 67.0, \"Date\": \"2005-04-01T00:00:00\"}, {\"Year\": 2005, \"Month\": \"May\", \"HMI\": 70.0, \"Date\": \"2005-05-01T00:00:00\"}, {\"Year\": 2005, \"Month\": \"Jun\", \"HMI\": 72.0, \"Date\": \"2005-06-01T00:00:00\"}, {\"Year\": 2005, \"Month\": \"Jul\", \"HMI\": 70.0, \"Date\": \"2005-07-01T00:00:00\"}, {\"Year\": 2005, \"Month\": \"Aug\", \"HMI\": 67.0, \"Date\": \"2005-08-01T00:00:00\"}, {\"Year\": 2005, \"Month\": \"Sep\", \"HMI\": 65.0, \"Date\": \"2005-09-01T00:00:00\"}, {\"Year\": 2005, \"Month\": \"Oct\", \"HMI\": 68.0, \"Date\": \"2005-10-01T00:00:00\"}, {\"Year\": 2005, \"Month\": \"Nov\", \"HMI\": 61.0, \"Date\": \"2005-11-01T00:00:00\"}, {\"Year\": 2005, \"Month\": \"Dec\", \"HMI\": 57.0, \"Date\": \"2005-12-01T00:00:00\"}, {\"Year\": 2006, \"Month\": \"Jan\", \"HMI\": 57.0, \"Date\": \"2006-01-01T00:00:00\"}, {\"Year\": 2006, \"Month\": \"Feb\", \"HMI\": 56.0, \"Date\": \"2006-02-01T00:00:00\"}, {\"Year\": 2006, \"Month\": \"Mar\", \"HMI\": 54.0, \"Date\": \"2006-03-01T00:00:00\"}, {\"Year\": 2006, \"Month\": \"Apr\", \"HMI\": 51.0, \"Date\": \"2006-04-01T00:00:00\"}, {\"Year\": 2006, \"Month\": \"May\", \"HMI\": 46.0, \"Date\": \"2006-05-01T00:00:00\"}, {\"Year\": 2006, \"Month\": \"Jun\", \"HMI\": 42.0, \"Date\": \"2006-06-01T00:00:00\"}, {\"Year\": 2006, \"Month\": \"Jul\", \"HMI\": 39.0, \"Date\": \"2006-07-01T00:00:00\"}, {\"Year\": 2006, \"Month\": \"Aug\", \"HMI\": 33.0, \"Date\": \"2006-08-01T00:00:00\"}, {\"Year\": 2006, \"Month\": \"Sep\", \"HMI\": 30.0, \"Date\": \"2006-09-01T00:00:00\"}, {\"Year\": 2006, \"Month\": \"Oct\", \"HMI\": 31.0, \"Date\": \"2006-10-01T00:00:00\"}, {\"Year\": 2006, \"Month\": \"Nov\", \"HMI\": 33.0, \"Date\": \"2006-11-01T00:00:00\"}, {\"Year\": 2006, \"Month\": \"Dec\", \"HMI\": 33.0, \"Date\": \"2006-12-01T00:00:00\"}, {\"Year\": 2007, \"Month\": \"Jan\", \"HMI\": 35.0, \"Date\": \"2007-01-01T00:00:00\"}, {\"Year\": 2007, \"Month\": \"Feb\", \"HMI\": 39.0, \"Date\": \"2007-02-01T00:00:00\"}, {\"Year\": 2007, \"Month\": \"Mar\", \"HMI\": 36.0, \"Date\": \"2007-03-01T00:00:00\"}, {\"Year\": 2007, \"Month\": \"Apr\", \"HMI\": 33.0, \"Date\": \"2007-04-01T00:00:00\"}, {\"Year\": 2007, \"Month\": \"May\", \"HMI\": 30.0, \"Date\": \"2007-05-01T00:00:00\"}, {\"Year\": 2007, \"Month\": \"Jun\", \"HMI\": 28.0, \"Date\": \"2007-06-01T00:00:00\"}, {\"Year\": 2007, \"Month\": \"Jul\", \"HMI\": 24.0, \"Date\": \"2007-07-01T00:00:00\"}, {\"Year\": 2007, \"Month\": \"Aug\", \"HMI\": 22.0, \"Date\": \"2007-08-01T00:00:00\"}, {\"Year\": 2007, \"Month\": \"Sep\", \"HMI\": 20.0, \"Date\": \"2007-09-01T00:00:00\"}, {\"Year\": 2007, \"Month\": \"Oct\", \"HMI\": 19.0, \"Date\": \"2007-10-01T00:00:00\"}, {\"Year\": 2007, \"Month\": \"Nov\", \"HMI\": 19.0, \"Date\": \"2007-11-01T00:00:00\"}, {\"Year\": 2007, \"Month\": \"Dec\", \"HMI\": 18.0, \"Date\": \"2007-12-01T00:00:00\"}, {\"Year\": 2008, \"Month\": \"Jan\", \"HMI\": 19.0, \"Date\": \"2008-01-01T00:00:00\"}, {\"Year\": 2008, \"Month\": \"Feb\", \"HMI\": 20.0, \"Date\": \"2008-02-01T00:00:00\"}, {\"Year\": 2008, \"Month\": \"Mar\", \"HMI\": 20.0, \"Date\": \"2008-03-01T00:00:00\"}, {\"Year\": 2008, \"Month\": \"Apr\", \"HMI\": 20.0, \"Date\": \"2008-04-01T00:00:00\"}, {\"Year\": 2008, \"Month\": \"May\", \"HMI\": 19.0, \"Date\": \"2008-05-01T00:00:00\"}, {\"Year\": 2008, \"Month\": \"Jun\", \"HMI\": 18.0, \"Date\": \"2008-06-01T00:00:00\"}, {\"Year\": 2008, \"Month\": \"Jul\", \"HMI\": 16.0, \"Date\": \"2008-07-01T00:00:00\"}, {\"Year\": 2008, \"Month\": \"Aug\", \"HMI\": 16.0, \"Date\": \"2008-08-01T00:00:00\"}, {\"Year\": 2008, \"Month\": \"Sep\", \"HMI\": 17.0, \"Date\": \"2008-09-01T00:00:00\"}, {\"Year\": 2008, \"Month\": \"Oct\", \"HMI\": 14.0, \"Date\": \"2008-10-01T00:00:00\"}, {\"Year\": 2008, \"Month\": \"Nov\", \"HMI\": 9.0, \"Date\": \"2008-11-01T00:00:00\"}, {\"Year\": 2008, \"Month\": \"Dec\", \"HMI\": 9.0, \"Date\": \"2008-12-01T00:00:00\"}, {\"Year\": 2009, \"Month\": \"Jan\", \"HMI\": 8.0, \"Date\": \"2009-01-01T00:00:00\"}, {\"Year\": 2009, \"Month\": \"Feb\", \"HMI\": 9.0, \"Date\": \"2009-02-01T00:00:00\"}, {\"Year\": 2009, \"Month\": \"Mar\", \"HMI\": 9.0, \"Date\": \"2009-03-01T00:00:00\"}, {\"Year\": 2009, \"Month\": \"Apr\", \"HMI\": 14.0, \"Date\": \"2009-04-01T00:00:00\"}, {\"Year\": 2009, \"Month\": \"May\", \"HMI\": 16.0, \"Date\": \"2009-05-01T00:00:00\"}, {\"Year\": 2009, \"Month\": \"Jun\", \"HMI\": 15.0, \"Date\": \"2009-06-01T00:00:00\"}, {\"Year\": 2009, \"Month\": \"Jul\", \"HMI\": 17.0, \"Date\": \"2009-07-01T00:00:00\"}, {\"Year\": 2009, \"Month\": \"Aug\", \"HMI\": 18.0, \"Date\": \"2009-08-01T00:00:00\"}, {\"Year\": 2009, \"Month\": \"Sep\", \"HMI\": 19.0, \"Date\": \"2009-09-01T00:00:00\"}, {\"Year\": 2009, \"Month\": \"Oct\", \"HMI\": 17.0, \"Date\": \"2009-10-01T00:00:00\"}, {\"Year\": 2009, \"Month\": \"Nov\", \"HMI\": 17.0, \"Date\": \"2009-11-01T00:00:00\"}, {\"Year\": 2009, \"Month\": \"Dec\", \"HMI\": 16.0, \"Date\": \"2009-12-01T00:00:00\"}, {\"Year\": 2010, \"Month\": \"Jan\", \"HMI\": 15.0, \"Date\": \"2010-01-01T00:00:00\"}, {\"Year\": 2010, \"Month\": \"Feb\", \"HMI\": 17.0, \"Date\": \"2010-02-01T00:00:00\"}, {\"Year\": 2010, \"Month\": \"Mar\", \"HMI\": 15.0, \"Date\": \"2010-03-01T00:00:00\"}, {\"Year\": 2010, \"Month\": \"Apr\", \"HMI\": 19.0, \"Date\": \"2010-04-01T00:00:00\"}, {\"Year\": 2010, \"Month\": \"May\", \"HMI\": 22.0, \"Date\": \"2010-05-01T00:00:00\"}, {\"Year\": 2010, \"Month\": \"Jun\", \"HMI\": 16.0, \"Date\": \"2010-06-01T00:00:00\"}, {\"Year\": 2010, \"Month\": \"Jul\", \"HMI\": 14.0, \"Date\": \"2010-07-01T00:00:00\"}, {\"Year\": 2010, \"Month\": \"Aug\", \"HMI\": 13.0, \"Date\": \"2010-08-01T00:00:00\"}, {\"Year\": 2010, \"Month\": \"Sep\", \"HMI\": 13.0, \"Date\": \"2010-09-01T00:00:00\"}, {\"Year\": 2010, \"Month\": \"Oct\", \"HMI\": 15.0, \"Date\": \"2010-10-01T00:00:00\"}, {\"Year\": 2010, \"Month\": \"Nov\", \"HMI\": 16.0, \"Date\": \"2010-11-01T00:00:00\"}, {\"Year\": 2010, \"Month\": \"Dec\", \"HMI\": 16.0, \"Date\": \"2010-12-01T00:00:00\"}, {\"Year\": 2011, \"Month\": \"Jan\", \"HMI\": 16.0, \"Date\": \"2011-01-01T00:00:00\"}, {\"Year\": 2011, \"Month\": \"Feb\", \"HMI\": 16.0, \"Date\": \"2011-02-01T00:00:00\"}, {\"Year\": 2011, \"Month\": \"Mar\", \"HMI\": 17.0, \"Date\": \"2011-03-01T00:00:00\"}, {\"Year\": 2011, \"Month\": \"Apr\", \"HMI\": 16.0, \"Date\": \"2011-04-01T00:00:00\"}, {\"Year\": 2011, \"Month\": \"May\", \"HMI\": 16.0, \"Date\": \"2011-05-01T00:00:00\"}, {\"Year\": 2011, \"Month\": \"Jun\", \"HMI\": 13.0, \"Date\": \"2011-06-01T00:00:00\"}, {\"Year\": 2011, \"Month\": \"Jul\", \"HMI\": 15.0, \"Date\": \"2011-07-01T00:00:00\"}, {\"Year\": 2011, \"Month\": \"Aug\", \"HMI\": 15.0, \"Date\": \"2011-08-01T00:00:00\"}, {\"Year\": 2011, \"Month\": \"Sep\", \"HMI\": 14.0, \"Date\": \"2011-09-01T00:00:00\"}, {\"Year\": 2011, \"Month\": \"Oct\", \"HMI\": 17.0, \"Date\": \"2011-10-01T00:00:00\"}, {\"Year\": 2011, \"Month\": \"Nov\", \"HMI\": 19.0, \"Date\": \"2011-11-01T00:00:00\"}, {\"Year\": 2011, \"Month\": \"Dec\", \"HMI\": 21.0, \"Date\": \"2011-12-01T00:00:00\"}, {\"Year\": 2012, \"Month\": \"Jan\", \"HMI\": 25.0, \"Date\": \"2012-01-01T00:00:00\"}, {\"Year\": 2012, \"Month\": \"Feb\", \"HMI\": 28.0, \"Date\": \"2012-02-01T00:00:00\"}, {\"Year\": 2012, \"Month\": \"Mar\", \"HMI\": 28.0, \"Date\": \"2012-03-01T00:00:00\"}, {\"Year\": 2012, \"Month\": \"Apr\", \"HMI\": 24.0, \"Date\": \"2012-04-01T00:00:00\"}, {\"Year\": 2012, \"Month\": \"May\", \"HMI\": 28.0, \"Date\": \"2012-05-01T00:00:00\"}, {\"Year\": 2012, \"Month\": \"Jun\", \"HMI\": 29.0, \"Date\": \"2012-06-01T00:00:00\"}, {\"Year\": 2012, \"Month\": \"Jul\", \"HMI\": 35.0, \"Date\": \"2012-07-01T00:00:00\"}, {\"Year\": 2012, \"Month\": \"Aug\", \"HMI\": 37.0, \"Date\": \"2012-08-01T00:00:00\"}, {\"Year\": 2012, \"Month\": \"Sep\", \"HMI\": 40.0, \"Date\": \"2012-09-01T00:00:00\"}, {\"Year\": 2012, \"Month\": \"Oct\", \"HMI\": 41.0, \"Date\": \"2012-10-01T00:00:00\"}, {\"Year\": 2012, \"Month\": \"Nov\", \"HMI\": 45.0, \"Date\": \"2012-11-01T00:00:00\"}, {\"Year\": 2012, \"Month\": \"Dec\", \"HMI\": 47.0, \"Date\": \"2012-12-01T00:00:00\"}, {\"Year\": 2013, \"Month\": \"Jan\", \"HMI\": 47.0, \"Date\": \"2013-01-01T00:00:00\"}, {\"Year\": 2013, \"Month\": \"Feb\", \"HMI\": 46.0, \"Date\": \"2013-02-01T00:00:00\"}, {\"Year\": 2013, \"Month\": \"Mar\", \"HMI\": 44.0, \"Date\": \"2013-03-01T00:00:00\"}, {\"Year\": 2013, \"Month\": \"Apr\", \"HMI\": 41.0, \"Date\": \"2013-04-01T00:00:00\"}, {\"Year\": 2013, \"Month\": \"May\", \"HMI\": 44.0, \"Date\": \"2013-05-01T00:00:00\"}, {\"Year\": 2013, \"Month\": \"Jun\", \"HMI\": 51.0, \"Date\": \"2013-06-01T00:00:00\"}, {\"Year\": 2013, \"Month\": \"Jul\", \"HMI\": 56.0, \"Date\": \"2013-07-01T00:00:00\"}, {\"Year\": 2013, \"Month\": \"Aug\", \"HMI\": 58.0, \"Date\": \"2013-08-01T00:00:00\"}, {\"Year\": 2013, \"Month\": \"Sep\", \"HMI\": 57.0, \"Date\": \"2013-09-01T00:00:00\"}, {\"Year\": 2013, \"Month\": \"Oct\", \"HMI\": 54.0, \"Date\": \"2013-10-01T00:00:00\"}, {\"Year\": 2013, \"Month\": \"Nov\", \"HMI\": 54.0, \"Date\": \"2013-11-01T00:00:00\"}, {\"Year\": 2013, \"Month\": \"Dec\", \"HMI\": 57.0, \"Date\": \"2013-12-01T00:00:00\"}, {\"Year\": 2014, \"Month\": \"Jan\", \"HMI\": 56.0, \"Date\": \"2014-01-01T00:00:00\"}, {\"Year\": 2014, \"Month\": \"Feb\", \"HMI\": 46.0, \"Date\": \"2014-02-01T00:00:00\"}, {\"Year\": 2014, \"Month\": \"Mar\", \"HMI\": 46.0, \"Date\": \"2014-03-01T00:00:00\"}, {\"Year\": 2014, \"Month\": \"Apr\", \"HMI\": 46.0, \"Date\": \"2014-04-01T00:00:00\"}, {\"Year\": 2014, \"Month\": \"May\", \"HMI\": 45.0, \"Date\": \"2014-05-01T00:00:00\"}, {\"Year\": 2014, \"Month\": \"Jun\", \"HMI\": 49.0, \"Date\": \"2014-06-01T00:00:00\"}, {\"Year\": 2014, \"Month\": \"Jul\", \"HMI\": 53.0, \"Date\": \"2014-07-01T00:00:00\"}, {\"Year\": 2014, \"Month\": \"Aug\", \"HMI\": 55.0, \"Date\": \"2014-08-01T00:00:00\"}, {\"Year\": 2014, \"Month\": \"Sep\", \"HMI\": 59.0, \"Date\": \"2014-09-01T00:00:00\"}, {\"Year\": 2014, \"Month\": \"Oct\", \"HMI\": 54.0, \"Date\": \"2014-10-01T00:00:00\"}, {\"Year\": 2014, \"Month\": \"Nov\", \"HMI\": 58.0, \"Date\": \"2014-11-01T00:00:00\"}, {\"Year\": 2014, \"Month\": \"Dec\", \"HMI\": 58.0, \"Date\": \"2014-12-01T00:00:00\"}, {\"Year\": 2015, \"Month\": \"Jan\", \"HMI\": 57.0, \"Date\": \"2015-01-01T00:00:00\"}, {\"Year\": 2015, \"Month\": \"Feb\", \"HMI\": 55.0, \"Date\": \"2015-02-01T00:00:00\"}, {\"Year\": 2015, \"Month\": \"Mar\", \"HMI\": 52.0, \"Date\": \"2015-03-01T00:00:00\"}, {\"Year\": 2015, \"Month\": \"Apr\", \"HMI\": 56.0, \"Date\": \"2015-04-01T00:00:00\"}, {\"Year\": 2015, \"Month\": \"May\", \"HMI\": 54.0, \"Date\": \"2015-05-01T00:00:00\"}, {\"Year\": 2015, \"Month\": \"Jun\", \"HMI\": 60.0, \"Date\": \"2015-06-01T00:00:00\"}, {\"Year\": 2015, \"Month\": \"Jul\", \"HMI\": 60.0, \"Date\": \"2015-07-01T00:00:00\"}, {\"Year\": 2015, \"Month\": \"Aug\", \"HMI\": 61.0, \"Date\": \"2015-08-01T00:00:00\"}, {\"Year\": 2015, \"Month\": \"Sep\", \"HMI\": 61.0, \"Date\": \"2015-09-01T00:00:00\"}, {\"Year\": 2015, \"Month\": \"Oct\", \"HMI\": 65.0, \"Date\": \"2015-10-01T00:00:00\"}, {\"Year\": 2015, \"Month\": \"Nov\", \"HMI\": 62.0, \"Date\": \"2015-11-01T00:00:00\"}, {\"Year\": 2015, \"Month\": \"Dec\", \"HMI\": 60.0, \"Date\": \"2015-12-01T00:00:00\"}, {\"Year\": 2016, \"Month\": \"Jan\", \"HMI\": 61.0, \"Date\": \"2016-01-01T00:00:00\"}, {\"Year\": 2016, \"Month\": \"Feb\", \"HMI\": 58.0, \"Date\": \"2016-02-01T00:00:00\"}, {\"Year\": 2016, \"Month\": \"Mar\", \"HMI\": 58.0, \"Date\": \"2016-03-01T00:00:00\"}, {\"Year\": 2016, \"Month\": \"Apr\", \"HMI\": 58.0, \"Date\": \"2016-04-01T00:00:00\"}, {\"Year\": 2016, \"Month\": \"May\", \"HMI\": 58.0, \"Date\": \"2016-05-01T00:00:00\"}, {\"Year\": 2016, \"Month\": \"Jun\", \"HMI\": 60.0, \"Date\": \"2016-06-01T00:00:00\"}, {\"Year\": 2016, \"Month\": \"Jul\", \"HMI\": 58.0, \"Date\": \"2016-07-01T00:00:00\"}, {\"Year\": 2016, \"Month\": \"Aug\", \"HMI\": 59.0, \"Date\": \"2016-08-01T00:00:00\"}, {\"Year\": 2016, \"Month\": \"Sep\", \"HMI\": 65.0, \"Date\": \"2016-09-01T00:00:00\"}, {\"Year\": 2016, \"Month\": \"Oct\", \"HMI\": 63.0, \"Date\": \"2016-10-01T00:00:00\"}, {\"Year\": 2016, \"Month\": \"Nov\", \"HMI\": 63.0, \"Date\": \"2016-11-01T00:00:00\"}, {\"Year\": 2016, \"Month\": \"Dec\", \"HMI\": 69.0, \"Date\": \"2016-12-01T00:00:00\"}, {\"Year\": 2017, \"Month\": \"Jan\", \"HMI\": 67.0, \"Date\": \"2017-01-01T00:00:00\"}, {\"Year\": 2017, \"Month\": \"Feb\", \"HMI\": 65.0, \"Date\": \"2017-02-01T00:00:00\"}, {\"Year\": 2017, \"Month\": \"Mar\", \"HMI\": 71.0, \"Date\": \"2017-03-01T00:00:00\"}, {\"Year\": 2017, \"Month\": \"Apr\", \"HMI\": 68.0, \"Date\": \"2017-04-01T00:00:00\"}, {\"Year\": 2017, \"Month\": \"May\", \"HMI\": 69.0, \"Date\": \"2017-05-01T00:00:00\"}, {\"Year\": 2017, \"Month\": \"Jun\", \"HMI\": 66.0, \"Date\": \"2017-06-01T00:00:00\"}, {\"Year\": 2017, \"Month\": \"Jul\", \"HMI\": 64.0, \"Date\": \"2017-07-01T00:00:00\"}, {\"Year\": 2017, \"Month\": \"Aug\", \"HMI\": 67.0, \"Date\": \"2017-08-01T00:00:00\"}, {\"Year\": 2017, \"Month\": \"Sep\", \"HMI\": 64.0, \"Date\": \"2017-09-01T00:00:00\"}, {\"Year\": 2017, \"Month\": \"Oct\", \"HMI\": 68.0, \"Date\": \"2017-10-01T00:00:00\"}, {\"Year\": 2017, \"Month\": \"Nov\", \"HMI\": 69.0, \"Date\": \"2017-11-01T00:00:00\"}, {\"Year\": 2017, \"Month\": \"Dec\", \"HMI\": 74.0, \"Date\": \"2017-12-01T00:00:00\"}, {\"Year\": 2018, \"Month\": \"Jan\", \"HMI\": 72.0, \"Date\": \"2018-01-01T00:00:00\"}, {\"Year\": 2018, \"Month\": \"Feb\", \"HMI\": 71.0, \"Date\": \"2018-02-01T00:00:00\"}, {\"Year\": 2018, \"Month\": \"Mar\", \"HMI\": 70.0, \"Date\": \"2018-03-01T00:00:00\"}, {\"Year\": 2018, \"Month\": \"Apr\", \"HMI\": 68.0, \"Date\": \"2018-04-01T00:00:00\"}, {\"Year\": 2018, \"Month\": \"May\", \"HMI\": 70.0, \"Date\": \"2018-05-01T00:00:00\"}, {\"Year\": 2018, \"Month\": \"Jun\", \"HMI\": 68.0, \"Date\": \"2018-06-01T00:00:00\"}, {\"Year\": 2018, \"Month\": \"Jul\", \"HMI\": 68.0, \"Date\": \"2018-07-01T00:00:00\"}, {\"Year\": 2018, \"Month\": \"Aug\", \"HMI\": 67.0, \"Date\": \"2018-08-01T00:00:00\"}, {\"Year\": 2018, \"Month\": \"Sep\", \"HMI\": 67.0, \"Date\": \"2018-09-01T00:00:00\"}, {\"Year\": 2018, \"Month\": \"Oct\", \"HMI\": 68.0, \"Date\": \"2018-10-01T00:00:00\"}, {\"Year\": 2018, \"Month\": \"Nov\", \"HMI\": 60.0, \"Date\": \"2018-11-01T00:00:00\"}, {\"Year\": 2018, \"Month\": \"Dec\", \"HMI\": 56.0, \"Date\": \"2018-12-01T00:00:00\"}, {\"Year\": 2019, \"Month\": \"Jan\", \"HMI\": 58.0, \"Date\": \"2019-01-01T00:00:00\"}, {\"Year\": 2019, \"Month\": \"Feb\", \"HMI\": 62.0, \"Date\": \"2019-02-01T00:00:00\"}, {\"Year\": 2019, \"Month\": \"Mar\", \"HMI\": 62.0, \"Date\": \"2019-03-01T00:00:00\"}, {\"Year\": 2019, \"Month\": \"Apr\", \"HMI\": 63.0, \"Date\": \"2019-04-01T00:00:00\"}, {\"Year\": 2019, \"Month\": \"May\", \"HMI\": 66.0, \"Date\": \"2019-05-01T00:00:00\"}, {\"Year\": 2019, \"Month\": \"Jun\", \"HMI\": 64.0, \"Date\": \"2019-06-01T00:00:00\"}, {\"Year\": 2019, \"Month\": \"Jul\", \"HMI\": 65.0, \"Date\": \"2019-07-01T00:00:00\"}, {\"Year\": 2019, \"Month\": \"Aug\", \"HMI\": 67.0, \"Date\": \"2019-08-01T00:00:00\"}, {\"Year\": 2019, \"Month\": \"Sep\", \"HMI\": 68.0, \"Date\": \"2019-09-01T00:00:00\"}, {\"Year\": 2019, \"Month\": \"Oct\", \"HMI\": 71.0, \"Date\": \"2019-10-01T00:00:00\"}, {\"Year\": 2019, \"Month\": \"Nov\", \"HMI\": 71.0, \"Date\": \"2019-11-01T00:00:00\"}, {\"Year\": 2019, \"Month\": \"Dec\", \"HMI\": 76.0, \"Date\": \"2019-12-01T00:00:00\"}, {\"Year\": 2020, \"Month\": \"Jan\", \"HMI\": 75.0, \"Date\": \"2020-01-01T00:00:00\"}, {\"Year\": 2020, \"Month\": \"Feb\", \"HMI\": 74.0, \"Date\": \"2020-02-01T00:00:00\"}, {\"Year\": 2020, \"Month\": \"Mar\", \"HMI\": 72.0, \"Date\": \"2020-03-01T00:00:00\"}, {\"Year\": 2020, \"Month\": \"Apr\", \"HMI\": 30.0, \"Date\": \"2020-04-01T00:00:00\"}, {\"Year\": 2020, \"Month\": \"May\", \"HMI\": 37.0, \"Date\": \"2020-05-01T00:00:00\"}, {\"Year\": 2020, \"Month\": \"Jun\", \"HMI\": 58.0, \"Date\": \"2020-06-01T00:00:00\"}, {\"Year\": 2020, \"Month\": \"Jul\", \"HMI\": 72.0, \"Date\": \"2020-07-01T00:00:00\"}, {\"Year\": 2020, \"Month\": \"Aug\", \"HMI\": 78.0, \"Date\": \"2020-08-01T00:00:00\"}, {\"Year\": 2020, \"Month\": \"Sep\", \"HMI\": 83.0, \"Date\": \"2020-09-01T00:00:00\"}, {\"Year\": 2020, \"Month\": \"Oct\", \"HMI\": 85.0, \"Date\": \"2020-10-01T00:00:00\"}, {\"Year\": 2020, \"Month\": \"Nov\", \"HMI\": 90.0, \"Date\": \"2020-11-01T00:00:00\"}, {\"Year\": 2020, \"Month\": \"Dec\", \"HMI\": 86.0, \"Date\": \"2020-12-01T00:00:00\"}, {\"Year\": 2021, \"Month\": \"Jan\", \"HMI\": 83.0, \"Date\": \"2021-01-01T00:00:00\"}, {\"Year\": 2021, \"Month\": \"Feb\", \"HMI\": 84.0, \"Date\": \"2021-02-01T00:00:00\"}, {\"Year\": 2021, \"Month\": \"Mar\", \"HMI\": 82.0, \"Date\": \"2021-03-01T00:00:00\"}, {\"Year\": 2021, \"Month\": \"Apr\", \"HMI\": 83.0, \"Date\": \"2021-04-01T00:00:00\"}, {\"Year\": 2021, \"Month\": \"May\", \"HMI\": 83.0, \"Date\": \"2021-05-01T00:00:00\"}, {\"Year\": 2021, \"Month\": \"Jun\", \"HMI\": 81.0, \"Date\": \"2021-06-01T00:00:00\"}, {\"Year\": 2021, \"Month\": \"Jul\", \"HMI\": 80.0, \"Date\": \"2021-07-01T00:00:00\"}, {\"Year\": 2021, \"Month\": \"Aug\", \"HMI\": 75.0, \"Date\": \"2021-08-01T00:00:00\"}, {\"Year\": 2021, \"Month\": \"Sep\", \"HMI\": 76.0, \"Date\": \"2021-09-01T00:00:00\"}, {\"Year\": 2021, \"Month\": \"Oct\", \"HMI\": 80.0, \"Date\": \"2021-10-01T00:00:00\"}, {\"Year\": 2021, \"Month\": \"Nov\", \"HMI\": 83.0, \"Date\": \"2021-11-01T00:00:00\"}, {\"Year\": 2021, \"Month\": \"Dec\", \"HMI\": 84.0, \"Date\": \"2021-12-01T00:00:00\"}, {\"Year\": 2022, \"Month\": \"Jan\", \"HMI\": 83.0, \"Date\": \"2022-01-01T00:00:00\"}, {\"Year\": 2022, \"Month\": \"Feb\", \"HMI\": 81.0, \"Date\": \"2022-02-01T00:00:00\"}, {\"Year\": 2022, \"Month\": \"Mar\", \"HMI\": 79.0, \"Date\": \"2022-03-01T00:00:00\"}, {\"Year\": 2022, \"Month\": \"Apr\", \"HMI\": 77.0, \"Date\": \"2022-04-01T00:00:00\"}, {\"Year\": 2022, \"Month\": \"May\", \"HMI\": 69.0, \"Date\": \"2022-05-01T00:00:00\"}, {\"Year\": 2022, \"Month\": \"Jun\", \"HMI\": 67.0, \"Date\": \"2022-06-01T00:00:00\"}, {\"Year\": 2022, \"Month\": \"Jul\", \"HMI\": 55.0, \"Date\": \"2022-07-01T00:00:00\"}, {\"Year\": 2022, \"Month\": \"Aug\", \"HMI\": 49.0, \"Date\": \"2022-08-01T00:00:00\"}, {\"Year\": 2022, \"Month\": \"Sep\", \"HMI\": 46.0, \"Date\": \"2022-09-01T00:00:00\"}, {\"Year\": 2022, \"Month\": \"Oct\", \"HMI\": 38.0, \"Date\": \"2022-10-01T00:00:00\"}, {\"Year\": 2022, \"Month\": \"Nov\", \"HMI\": 33.0, \"Date\": \"2022-11-01T00:00:00\"}, {\"Year\": 2022, \"Month\": \"Dec\", \"HMI\": 31.0, \"Date\": \"2022-12-01T00:00:00\"}, {\"Year\": 2023, \"Month\": \"Jan\", \"HMI\": 35.0, \"Date\": \"2023-01-01T00:00:00\"}, {\"Year\": 2023, \"Month\": \"Feb\", \"HMI\": 42.0, \"Date\": \"2023-02-01T00:00:00\"}, {\"Year\": 2023, \"Month\": \"Mar\", \"HMI\": 44.0, \"Date\": \"2023-03-01T00:00:00\"}]}}, {\"mode\": \"vega-lite\"});\n",
       "</script>"
      ],
      "text/plain": [
       "alt.Chart(...)"
      ]
     },
     "metadata": {},
     "output_type": "display_data"
    }
   ],
   "source": [
    "# Create the bar chart\n",
    "bar_chart = alt.Chart(wrangled).mark_bar().encode(\n",
    "    x='Date:T',\n",
    "    y=alt.Y('y:Q', scale=alt.Scale(domain=[-50, 50])),\n",
    "    # y=alt.Y('y:Q', axis=alt.Axis(values=tick_values, labels=tick_labels)),  # chokes on labels in # or str\n",
    "    color=alt.Color('HMI:Q', scale=altair_gradient)\n",
    ").transform_calculate(\n",
    "    y='datum.HMI - 50'\n",
    ")\n",
    "\n",
    "bar_chart.display()\n"
   ]
  },
  {
   "cell_type": "code",
   "execution_count": null,
   "metadata": {},
   "outputs": [],
   "source": []
  }
 ],
 "metadata": {
  "kernelspec": {
   "display_name": "venv_3_11",
   "language": "python",
   "name": "python3"
  },
  "language_info": {
   "codemirror_mode": {
    "name": "ipython",
    "version": 3
   },
   "file_extension": ".py",
   "mimetype": "text/x-python",
   "name": "python",
   "nbconvert_exporter": "python",
   "pygments_lexer": "ipython3",
   "version": "3.11.0"
  },
  "orig_nbformat": 4
 },
 "nbformat": 4,
 "nbformat_minor": 2
}
